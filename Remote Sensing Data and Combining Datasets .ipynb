{
 "cells": [
  {
   "cell_type": "code",
   "execution_count": 142,
   "id": "da6431ed",
   "metadata": {},
   "outputs": [],
   "source": [
    "import ee\n",
    "import geemap\n",
    "import pandas as pd\n",
    "import numpy as np\n",
    "import plotly.express as px\n",
    "\n",
    "ee.Initialize()\n",
    "Map = geemap.Map()"
   ]
  },
  {
   "cell_type": "markdown",
   "id": "482c6ce8",
   "metadata": {},
   "source": [
    "https://kaflekrishna.com.np/blog-detail/extraction-raster-values-point-samples-google-earth-engine-gee/"
   ]
  },
  {
   "cell_type": "code",
   "execution_count": 143,
   "id": "86dcfb94",
   "metadata": {},
   "outputs": [],
   "source": [
    "def getNDVI(image):\n",
    "    # Define the bands for Landsat 8\n",
    "    ndvi = image.select('NDVI')\n",
    "    \n",
    "    # Return the image with the added NDVI band\n",
    "    return image.addBands(ndvi)\n",
    "\n",
    "def getEVI(image):\n",
    "    # Define the bands for Landsat 8\n",
    "    evi = image.select('EVI')\n",
    "    \n",
    "    # Return the image with the added NDVI band\n",
    "    return image.addBands(evi)\n",
    "\n",
    "def addDate(image):\n",
    "    img_date = ee.Date(image.date())\n",
    "    img_date = ee.Number.parse(img_date.format('YYYYMMdd'))\n",
    "    return image.addBands(ee.Image(img_date).rename('date').toInt())"
   ]
  },
  {
   "cell_type": "code",
   "execution_count": 144,
   "id": "09623549",
   "metadata": {},
   "outputs": [],
   "source": [
    "# Retrieve satalite images between specified dates\n",
    "l8_ndvi_data = ee.ImageCollection('LANDSAT/LC08/C01/T1_32DAY_NDVI') \\\n",
    "    .filterDate(\"2013-12-01\", \"2014-06-07\") \\\n",
    "    .map(getNDVI).map(addDate)\n",
    "\n",
    "l8_evi_data = ee.ImageCollection('LANDSAT/LC08/C01/T1_32DAY_EVI') \\\n",
    "    .filterDate(\"2013-12-01\", \"2014-06-07\") \\\n",
    "    .map(getEVI).map(addDate)"
   ]
  },
  {
   "cell_type": "code",
   "execution_count": 145,
   "id": "a1b03c6d",
   "metadata": {
    "scrolled": false
   },
   "outputs": [],
   "source": [
    "# Load in location coordinates\n",
    "plot_df = pd.read_csv(r\"C:\\Users\\AdamMorgan\\OneDrive\\UCL\\Research Project\\Data\\location_coordinates.csv\")"
   ]
  },
  {
   "cell_type": "code",
   "execution_count": 146,
   "id": "440c1ff0",
   "metadata": {
    "scrolled": false
   },
   "outputs": [],
   "source": [
    "# Convert dataframe into Feature Collection for GEE\n",
    "features=[]\n",
    "for index, row in plot_df.iterrows():\n",
    "#     construct the geometry from dataframe\n",
    "    poi_geometry = ee.Geometry.Point([row['X'], row['Y']])\n",
    "#     construct the attributes (properties) for each point \n",
    "    poi_properties = dict(row)\n",
    "#     construct feature combining geometry and properties\n",
    "    poi_feature = ee.Feature(poi_geometry, poi_properties)\n",
    "    features.append(poi_feature)\n",
    "\n",
    "# final Feature collection assembly\n",
    "ee_fc = ee.FeatureCollection(features) "
   ]
  },
  {
   "cell_type": "code",
   "execution_count": 147,
   "id": "6adbdff6",
   "metadata": {},
   "outputs": [],
   "source": [
    "def rasterExtraction(image):\n",
    "    feature = image.sampleRegions(\n",
    "        collection = ee_fc, # feature collection here\n",
    "        scale = 10 # Cell size of raster\n",
    "    )\n",
    "    return feature"
   ]
  },
  {
   "cell_type": "code",
   "execution_count": 148,
   "id": "ffa1658d",
   "metadata": {},
   "outputs": [],
   "source": [
    "ndvi_results = l8_ndvi_data.filterBounds(ee_fc).select('NDVI').map(addDate).map(rasterExtraction).flatten()\n",
    "evi_results = l8_evi_data.filterBounds(ee_fc).select('EVI').map(addDate).map(rasterExtraction).flatten()"
   ]
  },
  {
   "cell_type": "code",
   "execution_count": 149,
   "id": "d932e80e",
   "metadata": {
    "scrolled": false
   },
   "outputs": [],
   "source": [
    "ndvi_sample_result = ndvi_results.first().getInfo()\n",
    "evi_sample_result = evi_results.first().getInfo()"
   ]
  },
  {
   "cell_type": "code",
   "execution_count": 150,
   "id": "8872aebe",
   "metadata": {
    "scrolled": true
   },
   "outputs": [],
   "source": [
    "# extract the properties column from feature collection- column order may not be as our sample data order\n",
    "ndvi_columns = list(ndvi_sample_result['properties'].keys())\n",
    "evi_columns = list(evi_sample_result['properties'].keys())\n",
    "\n",
    "# Order data column as per sample data\n",
    "# You can modify this for better optimization\n",
    "ndvi_column_df = list(plot_df.columns)\n",
    "evi_column_df = list(plot_df.columns)\n",
    "\n",
    "#column_df.extend(['NDVI', 'SAVI', 'EVI', 'GNDVI', 'NDBI', 'date'])\n",
    "ndvi_column_df.extend(['NDVI', 'date'])\n",
    "evi_column_df.extend(['EVI', 'date'])"
   ]
  },
  {
   "cell_type": "code",
   "execution_count": 151,
   "id": "573444d9",
   "metadata": {},
   "outputs": [],
   "source": [
    "# Create NDVI dataframe\n",
    "ndvi_nested_list = ndvi_results.reduceColumns(ee.Reducer.toList(len(ndvi_column_df)), ndvi_column_df).values().get(0)\n",
    "ndvi_data = ndvi_nested_list.getInfo()\n",
    "\n",
    "# dont forget we need to call the callback method \"getInfo\" to retrieve the data\n",
    "ndvi_df = pd.DataFrame(ndvi_data, columns=ndvi_column_df)\n",
    "\n",
    "# Create EVI dataframe\n",
    "evi_nested_list = evi_results.reduceColumns(ee.Reducer.toList(len(evi_column_df)), evi_column_df).values().get(0)\n",
    "evi_data = evi_nested_list.getInfo()\n",
    "\n",
    "# dont forget we need to call the callback method \"getInfo\" to retrieve the data\n",
    "evi_df = pd.DataFrame(evi_data, columns=evi_column_df)"
   ]
  },
  {
   "cell_type": "code",
   "execution_count": 152,
   "id": "505ad94d",
   "metadata": {},
   "outputs": [
    {
     "data": {
      "text/html": [
       "<div>\n",
       "<style scoped>\n",
       "    .dataframe tbody tr th:only-of-type {\n",
       "        vertical-align: middle;\n",
       "    }\n",
       "\n",
       "    .dataframe tbody tr th {\n",
       "        vertical-align: top;\n",
       "    }\n",
       "\n",
       "    .dataframe thead th {\n",
       "        text-align: right;\n",
       "    }\n",
       "</style>\n",
       "<table border=\"1\" class=\"dataframe\">\n",
       "  <thead>\n",
       "    <tr style=\"text-align: right;\">\n",
       "      <th></th>\n",
       "      <th>Location</th>\n",
       "      <th>X</th>\n",
       "      <th>Y</th>\n",
       "      <th>NDVI</th>\n",
       "      <th>date</th>\n",
       "    </tr>\n",
       "  </thead>\n",
       "  <tbody>\n",
       "    <tr>\n",
       "      <th>0</th>\n",
       "      <td>AGUGLIANO</td>\n",
       "      <td>13.363000</td>\n",
       "      <td>43.545000</td>\n",
       "      <td>0.043876</td>\n",
       "      <td>20131223</td>\n",
       "    </tr>\n",
       "    <tr>\n",
       "      <th>1</th>\n",
       "      <td>ARGELATO</td>\n",
       "      <td>11.344450</td>\n",
       "      <td>44.650532</td>\n",
       "      <td>0.493778</td>\n",
       "      <td>20131223</td>\n",
       "    </tr>\n",
       "    <tr>\n",
       "      <th>2</th>\n",
       "      <td>CAMMARATA</td>\n",
       "      <td>13.730840</td>\n",
       "      <td>37.634871</td>\n",
       "      <td>0.013995</td>\n",
       "      <td>20131223</td>\n",
       "    </tr>\n",
       "    <tr>\n",
       "      <th>3</th>\n",
       "      <td>FIORENZUOLA</td>\n",
       "      <td>9.894081</td>\n",
       "      <td>44.927663</td>\n",
       "      <td>0.076173</td>\n",
       "      <td>20131223</td>\n",
       "    </tr>\n",
       "    <tr>\n",
       "      <th>4</th>\n",
       "      <td>FOGGIA</td>\n",
       "      <td>15.502678</td>\n",
       "      <td>41.462218</td>\n",
       "      <td>0.063762</td>\n",
       "      <td>20131223</td>\n",
       "    </tr>\n",
       "  </tbody>\n",
       "</table>\n",
       "</div>"
      ],
      "text/plain": [
       "      Location          X          Y      NDVI      date\n",
       "0    AGUGLIANO  13.363000  43.545000  0.043876  20131223\n",
       "1     ARGELATO  11.344450  44.650532  0.493778  20131223\n",
       "2    CAMMARATA  13.730840  37.634871  0.013995  20131223\n",
       "3  FIORENZUOLA   9.894081  44.927663  0.076173  20131223\n",
       "4       FOGGIA  15.502678  41.462218  0.063762  20131223"
      ]
     },
     "execution_count": 152,
     "metadata": {},
     "output_type": "execute_result"
    }
   ],
   "source": [
    "ndvi_df.head(5)"
   ]
  },
  {
   "cell_type": "code",
   "execution_count": 153,
   "id": "4531ea83",
   "metadata": {
    "scrolled": true
   },
   "outputs": [
    {
     "data": {
      "text/html": [
       "<div>\n",
       "<style scoped>\n",
       "    .dataframe tbody tr th:only-of-type {\n",
       "        vertical-align: middle;\n",
       "    }\n",
       "\n",
       "    .dataframe tbody tr th {\n",
       "        vertical-align: top;\n",
       "    }\n",
       "\n",
       "    .dataframe thead th {\n",
       "        text-align: right;\n",
       "    }\n",
       "</style>\n",
       "<table border=\"1\" class=\"dataframe\">\n",
       "  <thead>\n",
       "    <tr style=\"text-align: right;\">\n",
       "      <th></th>\n",
       "      <th>Location</th>\n",
       "      <th>X</th>\n",
       "      <th>Y</th>\n",
       "      <th>date</th>\n",
       "      <th>NDVI</th>\n",
       "      <th>EVI</th>\n",
       "    </tr>\n",
       "  </thead>\n",
       "  <tbody>\n",
       "    <tr>\n",
       "      <th>0</th>\n",
       "      <td>AGUGLIANO</td>\n",
       "      <td>13.36300</td>\n",
       "      <td>43.545000</td>\n",
       "      <td>20131223</td>\n",
       "      <td>0.043876</td>\n",
       "      <td>0.273331</td>\n",
       "    </tr>\n",
       "    <tr>\n",
       "      <th>1</th>\n",
       "      <td>ARGELATO</td>\n",
       "      <td>11.34445</td>\n",
       "      <td>44.650532</td>\n",
       "      <td>20131223</td>\n",
       "      <td>0.493778</td>\n",
       "      <td>0.546566</td>\n",
       "    </tr>\n",
       "    <tr>\n",
       "      <th>2</th>\n",
       "      <td>CAMMARATA</td>\n",
       "      <td>13.73084</td>\n",
       "      <td>37.634871</td>\n",
       "      <td>20131223</td>\n",
       "      <td>0.013995</td>\n",
       "      <td>0.140016</td>\n",
       "    </tr>\n",
       "  </tbody>\n",
       "</table>\n",
       "</div>"
      ],
      "text/plain": [
       "    Location         X          Y      date      NDVI       EVI\n",
       "0  AGUGLIANO  13.36300  43.545000  20131223  0.043876  0.273331\n",
       "1   ARGELATO  11.34445  44.650532  20131223  0.493778  0.546566\n",
       "2  CAMMARATA  13.73084  37.634871  20131223  0.013995  0.140016"
      ]
     },
     "execution_count": 153,
     "metadata": {},
     "output_type": "execute_result"
    }
   ],
   "source": [
    "# Merge dataframes together\n",
    "merged_df = pd.merge(ndvi_df, evi_df, on=['Location', 'X', 'Y', 'date'], how='outer')\n",
    "\n",
    "# Reorder columns\n",
    "column_order = ['Location', 'X', 'Y', 'date', 'NDVI','EVI']\n",
    "df = merged_df[column_order]\n",
    "df.head(3)"
   ]
  },
  {
   "cell_type": "code",
   "execution_count": 154,
   "id": "38a55c91",
   "metadata": {},
   "outputs": [
    {
     "data": {
      "text/html": [
       "<div>\n",
       "<style scoped>\n",
       "    .dataframe tbody tr th:only-of-type {\n",
       "        vertical-align: middle;\n",
       "    }\n",
       "\n",
       "    .dataframe tbody tr th {\n",
       "        vertical-align: top;\n",
       "    }\n",
       "\n",
       "    .dataframe thead th {\n",
       "        text-align: right;\n",
       "    }\n",
       "</style>\n",
       "<table border=\"1\" class=\"dataframe\">\n",
       "  <thead>\n",
       "    <tr style=\"text-align: right;\">\n",
       "      <th></th>\n",
       "      <th>Location</th>\n",
       "      <th>coordinate x</th>\n",
       "      <th>coordinate y</th>\n",
       "      <th>date</th>\n",
       "      <th>year</th>\n",
       "      <th>month</th>\n",
       "      <th>NDVI</th>\n",
       "      <th>EVI</th>\n",
       "    </tr>\n",
       "  </thead>\n",
       "  <tbody>\n",
       "    <tr>\n",
       "      <th>0</th>\n",
       "      <td>AGUGLIANO</td>\n",
       "      <td>13.363000</td>\n",
       "      <td>43.545000</td>\n",
       "      <td>2013-12-23</td>\n",
       "      <td>2013</td>\n",
       "      <td>12</td>\n",
       "      <td>0.043876</td>\n",
       "      <td>0.273331</td>\n",
       "    </tr>\n",
       "    <tr>\n",
       "      <th>1</th>\n",
       "      <td>ARGELATO</td>\n",
       "      <td>11.344450</td>\n",
       "      <td>44.650532</td>\n",
       "      <td>2013-12-23</td>\n",
       "      <td>2013</td>\n",
       "      <td>12</td>\n",
       "      <td>0.493778</td>\n",
       "      <td>0.546566</td>\n",
       "    </tr>\n",
       "    <tr>\n",
       "      <th>2</th>\n",
       "      <td>CAMMARATA</td>\n",
       "      <td>13.730840</td>\n",
       "      <td>37.634871</td>\n",
       "      <td>2013-12-23</td>\n",
       "      <td>2013</td>\n",
       "      <td>12</td>\n",
       "      <td>0.013995</td>\n",
       "      <td>0.140016</td>\n",
       "    </tr>\n",
       "    <tr>\n",
       "      <th>3</th>\n",
       "      <td>FIORENZUOLA</td>\n",
       "      <td>9.894081</td>\n",
       "      <td>44.927663</td>\n",
       "      <td>2013-12-23</td>\n",
       "      <td>2013</td>\n",
       "      <td>12</td>\n",
       "      <td>0.076173</td>\n",
       "      <td>0.222927</td>\n",
       "    </tr>\n",
       "    <tr>\n",
       "      <th>4</th>\n",
       "      <td>FOGGIA</td>\n",
       "      <td>15.502678</td>\n",
       "      <td>41.462218</td>\n",
       "      <td>2013-12-23</td>\n",
       "      <td>2013</td>\n",
       "      <td>12</td>\n",
       "      <td>0.063762</td>\n",
       "      <td>0.332077</td>\n",
       "    </tr>\n",
       "  </tbody>\n",
       "</table>\n",
       "</div>"
      ],
      "text/plain": [
       "      Location  coordinate x  coordinate y       date  year  month      NDVI  \\\n",
       "0    AGUGLIANO     13.363000     43.545000 2013-12-23  2013     12  0.043876   \n",
       "1     ARGELATO     11.344450     44.650532 2013-12-23  2013     12  0.493778   \n",
       "2    CAMMARATA     13.730840     37.634871 2013-12-23  2013     12  0.013995   \n",
       "3  FIORENZUOLA      9.894081     44.927663 2013-12-23  2013     12  0.076173   \n",
       "4       FOGGIA     15.502678     41.462218 2013-12-23  2013     12  0.063762   \n",
       "\n",
       "        EVI  \n",
       "0  0.273331  \n",
       "1  0.546566  \n",
       "2  0.140016  \n",
       "3  0.222927  \n",
       "4  0.332077  "
      ]
     },
     "execution_count": 154,
     "metadata": {},
     "output_type": "execute_result"
    }
   ],
   "source": [
    "df['date'] = pd.to_datetime(df['date'], format='%Y%m%d')\n",
    "\n",
    "# Extract year, month, and day to new columns\n",
    "df['year'] = df['date'].dt.year\n",
    "df['month'] = df['date'].dt.month\n",
    "#df['day'] = df['date'].dt.day\n",
    "\n",
    "# Reorder columns\n",
    "column_order = ['Location', 'X', 'Y', 'date', 'year', 'month', 'NDVI','EVI']\n",
    "df = df[column_order]\n",
    "\n",
    "# Rename columns\n",
    "df = df.rename(columns={\n",
    "    'X': 'coordinate x',\n",
    "    'Y': 'coordinate y'\n",
    "})\n",
    "\n",
    "df.head(5)"
   ]
  },
  {
   "cell_type": "code",
   "execution_count": 155,
   "id": "dfb9ebc2",
   "metadata": {},
   "outputs": [
    {
     "name": "stdout",
     "output_type": "stream",
     "text": [
      "Location\n",
      "AGUGLIANO               6\n",
      "CAMMARATA               6\n",
      "FOGGIA                  6\n",
      "LIBERTINIA              6\n",
      "MONTELIBRETTI           6\n",
      "S.ANGELO LODIGIANO      6\n",
      "S.STEFANO QUISQUINIA    6\n",
      "TOLENTINO               6\n",
      "ARGELATO                5\n",
      "FIORENZUOLA             5\n",
      "Name: count, dtype: int64\n"
     ]
    }
   ],
   "source": [
    "location_counts = df['Location'].value_counts()\n",
    "print(location_counts)"
   ]
  },
  {
   "cell_type": "code",
   "execution_count": 156,
   "id": "ad059d3b",
   "metadata": {
    "scrolled": true
   },
   "outputs": [
    {
     "data": {
      "text/html": [
       "<div>\n",
       "<style scoped>\n",
       "    .dataframe tbody tr th:only-of-type {\n",
       "        vertical-align: middle;\n",
       "    }\n",
       "\n",
       "    .dataframe tbody tr th {\n",
       "        vertical-align: top;\n",
       "    }\n",
       "\n",
       "    .dataframe thead th {\n",
       "        text-align: right;\n",
       "    }\n",
       "</style>\n",
       "<table border=\"1\" class=\"dataframe\">\n",
       "  <thead>\n",
       "    <tr style=\"text-align: right;\">\n",
       "      <th></th>\n",
       "      <th>Location</th>\n",
       "      <th>coordinate x</th>\n",
       "      <th>coordinate y</th>\n",
       "      <th>date</th>\n",
       "      <th>year</th>\n",
       "      <th>month</th>\n",
       "      <th>NDVI</th>\n",
       "      <th>EVI</th>\n",
       "    </tr>\n",
       "  </thead>\n",
       "  <tbody>\n",
       "    <tr>\n",
       "      <th>0</th>\n",
       "      <td>AGUGLIANO</td>\n",
       "      <td>13.363</td>\n",
       "      <td>43.545</td>\n",
       "      <td>2013-12-23</td>\n",
       "      <td>2013</td>\n",
       "      <td>12</td>\n",
       "      <td>0.043876</td>\n",
       "      <td>0.273331</td>\n",
       "    </tr>\n",
       "    <tr>\n",
       "      <th>10</th>\n",
       "      <td>AGUGLIANO</td>\n",
       "      <td>13.363</td>\n",
       "      <td>43.545</td>\n",
       "      <td>2014-01-01</td>\n",
       "      <td>2014</td>\n",
       "      <td>1</td>\n",
       "      <td>0.043876</td>\n",
       "      <td>0.273331</td>\n",
       "    </tr>\n",
       "    <tr>\n",
       "      <th>20</th>\n",
       "      <td>AGUGLIANO</td>\n",
       "      <td>13.363</td>\n",
       "      <td>43.545</td>\n",
       "      <td>2014-02-02</td>\n",
       "      <td>2014</td>\n",
       "      <td>2</td>\n",
       "      <td>0.257505</td>\n",
       "      <td>0.288275</td>\n",
       "    </tr>\n",
       "  </tbody>\n",
       "</table>\n",
       "</div>"
      ],
      "text/plain": [
       "     Location  coordinate x  coordinate y       date  year  month      NDVI  \\\n",
       "0   AGUGLIANO        13.363        43.545 2013-12-23  2013     12  0.043876   \n",
       "10  AGUGLIANO        13.363        43.545 2014-01-01  2014      1  0.043876   \n",
       "20  AGUGLIANO        13.363        43.545 2014-02-02  2014      2  0.257505   \n",
       "\n",
       "         EVI  \n",
       "0   0.273331  \n",
       "10  0.273331  \n",
       "20  0.288275  "
      ]
     },
     "execution_count": 156,
     "metadata": {},
     "output_type": "execute_result"
    }
   ],
   "source": [
    "# I will plot line plot for single point only for now.\n",
    "# I will cover detail analaysis in next plot\n",
    "df_filtered = df[df['Location']=='AGUGLIANO']\n",
    "df_filtered['date'] = pd.to_datetime(df_filtered['date'], format='%Y%m%d')\n",
    "df_filtered.head(3)"
   ]
  },
  {
   "cell_type": "code",
   "execution_count": 157,
   "id": "b7d9a8d6",
   "metadata": {},
   "outputs": [
    {
     "name": "stdout",
     "output_type": "stream",
     "text": [
      "date\n",
      "2013-12-23    1\n",
      "2014-01-01    1\n",
      "2014-02-02    1\n",
      "2014-03-06    1\n",
      "2014-04-07    1\n",
      "2014-05-09    1\n",
      "Name: count, dtype: int64\n"
     ]
    }
   ],
   "source": [
    "date_counts = df_filtered['date'].value_counts()\n",
    "print(date_counts)"
   ]
  },
  {
   "cell_type": "code",
   "execution_count": 158,
   "id": "698f8611",
   "metadata": {
    "scrolled": false
   },
   "outputs": [
    {
     "data": {
      "application/vnd.plotly.v1+json": {
       "config": {
        "plotlyServerURL": "https://plot.ly"
       },
       "data": [
        {
         "hovertemplate": "date=%{x}<br>NDVI=%{y}<extra></extra>",
         "legendgroup": "",
         "line": {
          "color": "#636efa",
          "dash": "solid"
         },
         "marker": {
          "symbol": "circle"
         },
         "mode": "lines",
         "name": "",
         "orientation": "v",
         "showlegend": false,
         "type": "scatter",
         "x": [
          "2013-12-23T00:00:00",
          "2014-01-01T00:00:00",
          "2014-02-02T00:00:00",
          "2014-03-06T00:00:00",
          "2014-04-07T00:00:00",
          "2014-05-09T00:00:00"
         ],
         "xaxis": "x",
         "y": [
          0.043876491487026215,
          0.043876491487026215,
          0.25750529766082764,
          0.04718989133834839,
          0.7072688341140747,
          0.06629633158445358
         ],
         "yaxis": "y"
        }
       ],
       "layout": {
        "legend": {
         "tracegroupgap": 0
        },
        "margin": {
         "t": 60
        },
        "template": {
         "data": {
          "bar": [
           {
            "error_x": {
             "color": "#2a3f5f"
            },
            "error_y": {
             "color": "#2a3f5f"
            },
            "marker": {
             "line": {
              "color": "#E5ECF6",
              "width": 0.5
             },
             "pattern": {
              "fillmode": "overlay",
              "size": 10,
              "solidity": 0.2
             }
            },
            "type": "bar"
           }
          ],
          "barpolar": [
           {
            "marker": {
             "line": {
              "color": "#E5ECF6",
              "width": 0.5
             },
             "pattern": {
              "fillmode": "overlay",
              "size": 10,
              "solidity": 0.2
             }
            },
            "type": "barpolar"
           }
          ],
          "carpet": [
           {
            "aaxis": {
             "endlinecolor": "#2a3f5f",
             "gridcolor": "white",
             "linecolor": "white",
             "minorgridcolor": "white",
             "startlinecolor": "#2a3f5f"
            },
            "baxis": {
             "endlinecolor": "#2a3f5f",
             "gridcolor": "white",
             "linecolor": "white",
             "minorgridcolor": "white",
             "startlinecolor": "#2a3f5f"
            },
            "type": "carpet"
           }
          ],
          "choropleth": [
           {
            "colorbar": {
             "outlinewidth": 0,
             "ticks": ""
            },
            "type": "choropleth"
           }
          ],
          "contour": [
           {
            "colorbar": {
             "outlinewidth": 0,
             "ticks": ""
            },
            "colorscale": [
             [
              0,
              "#0d0887"
             ],
             [
              0.1111111111111111,
              "#46039f"
             ],
             [
              0.2222222222222222,
              "#7201a8"
             ],
             [
              0.3333333333333333,
              "#9c179e"
             ],
             [
              0.4444444444444444,
              "#bd3786"
             ],
             [
              0.5555555555555556,
              "#d8576b"
             ],
             [
              0.6666666666666666,
              "#ed7953"
             ],
             [
              0.7777777777777778,
              "#fb9f3a"
             ],
             [
              0.8888888888888888,
              "#fdca26"
             ],
             [
              1,
              "#f0f921"
             ]
            ],
            "type": "contour"
           }
          ],
          "contourcarpet": [
           {
            "colorbar": {
             "outlinewidth": 0,
             "ticks": ""
            },
            "type": "contourcarpet"
           }
          ],
          "heatmap": [
           {
            "colorbar": {
             "outlinewidth": 0,
             "ticks": ""
            },
            "colorscale": [
             [
              0,
              "#0d0887"
             ],
             [
              0.1111111111111111,
              "#46039f"
             ],
             [
              0.2222222222222222,
              "#7201a8"
             ],
             [
              0.3333333333333333,
              "#9c179e"
             ],
             [
              0.4444444444444444,
              "#bd3786"
             ],
             [
              0.5555555555555556,
              "#d8576b"
             ],
             [
              0.6666666666666666,
              "#ed7953"
             ],
             [
              0.7777777777777778,
              "#fb9f3a"
             ],
             [
              0.8888888888888888,
              "#fdca26"
             ],
             [
              1,
              "#f0f921"
             ]
            ],
            "type": "heatmap"
           }
          ],
          "heatmapgl": [
           {
            "colorbar": {
             "outlinewidth": 0,
             "ticks": ""
            },
            "colorscale": [
             [
              0,
              "#0d0887"
             ],
             [
              0.1111111111111111,
              "#46039f"
             ],
             [
              0.2222222222222222,
              "#7201a8"
             ],
             [
              0.3333333333333333,
              "#9c179e"
             ],
             [
              0.4444444444444444,
              "#bd3786"
             ],
             [
              0.5555555555555556,
              "#d8576b"
             ],
             [
              0.6666666666666666,
              "#ed7953"
             ],
             [
              0.7777777777777778,
              "#fb9f3a"
             ],
             [
              0.8888888888888888,
              "#fdca26"
             ],
             [
              1,
              "#f0f921"
             ]
            ],
            "type": "heatmapgl"
           }
          ],
          "histogram": [
           {
            "marker": {
             "pattern": {
              "fillmode": "overlay",
              "size": 10,
              "solidity": 0.2
             }
            },
            "type": "histogram"
           }
          ],
          "histogram2d": [
           {
            "colorbar": {
             "outlinewidth": 0,
             "ticks": ""
            },
            "colorscale": [
             [
              0,
              "#0d0887"
             ],
             [
              0.1111111111111111,
              "#46039f"
             ],
             [
              0.2222222222222222,
              "#7201a8"
             ],
             [
              0.3333333333333333,
              "#9c179e"
             ],
             [
              0.4444444444444444,
              "#bd3786"
             ],
             [
              0.5555555555555556,
              "#d8576b"
             ],
             [
              0.6666666666666666,
              "#ed7953"
             ],
             [
              0.7777777777777778,
              "#fb9f3a"
             ],
             [
              0.8888888888888888,
              "#fdca26"
             ],
             [
              1,
              "#f0f921"
             ]
            ],
            "type": "histogram2d"
           }
          ],
          "histogram2dcontour": [
           {
            "colorbar": {
             "outlinewidth": 0,
             "ticks": ""
            },
            "colorscale": [
             [
              0,
              "#0d0887"
             ],
             [
              0.1111111111111111,
              "#46039f"
             ],
             [
              0.2222222222222222,
              "#7201a8"
             ],
             [
              0.3333333333333333,
              "#9c179e"
             ],
             [
              0.4444444444444444,
              "#bd3786"
             ],
             [
              0.5555555555555556,
              "#d8576b"
             ],
             [
              0.6666666666666666,
              "#ed7953"
             ],
             [
              0.7777777777777778,
              "#fb9f3a"
             ],
             [
              0.8888888888888888,
              "#fdca26"
             ],
             [
              1,
              "#f0f921"
             ]
            ],
            "type": "histogram2dcontour"
           }
          ],
          "mesh3d": [
           {
            "colorbar": {
             "outlinewidth": 0,
             "ticks": ""
            },
            "type": "mesh3d"
           }
          ],
          "parcoords": [
           {
            "line": {
             "colorbar": {
              "outlinewidth": 0,
              "ticks": ""
             }
            },
            "type": "parcoords"
           }
          ],
          "pie": [
           {
            "automargin": true,
            "type": "pie"
           }
          ],
          "scatter": [
           {
            "fillpattern": {
             "fillmode": "overlay",
             "size": 10,
             "solidity": 0.2
            },
            "type": "scatter"
           }
          ],
          "scatter3d": [
           {
            "line": {
             "colorbar": {
              "outlinewidth": 0,
              "ticks": ""
             }
            },
            "marker": {
             "colorbar": {
              "outlinewidth": 0,
              "ticks": ""
             }
            },
            "type": "scatter3d"
           }
          ],
          "scattercarpet": [
           {
            "marker": {
             "colorbar": {
              "outlinewidth": 0,
              "ticks": ""
             }
            },
            "type": "scattercarpet"
           }
          ],
          "scattergeo": [
           {
            "marker": {
             "colorbar": {
              "outlinewidth": 0,
              "ticks": ""
             }
            },
            "type": "scattergeo"
           }
          ],
          "scattergl": [
           {
            "marker": {
             "colorbar": {
              "outlinewidth": 0,
              "ticks": ""
             }
            },
            "type": "scattergl"
           }
          ],
          "scattermapbox": [
           {
            "marker": {
             "colorbar": {
              "outlinewidth": 0,
              "ticks": ""
             }
            },
            "type": "scattermapbox"
           }
          ],
          "scatterpolar": [
           {
            "marker": {
             "colorbar": {
              "outlinewidth": 0,
              "ticks": ""
             }
            },
            "type": "scatterpolar"
           }
          ],
          "scatterpolargl": [
           {
            "marker": {
             "colorbar": {
              "outlinewidth": 0,
              "ticks": ""
             }
            },
            "type": "scatterpolargl"
           }
          ],
          "scatterternary": [
           {
            "marker": {
             "colorbar": {
              "outlinewidth": 0,
              "ticks": ""
             }
            },
            "type": "scatterternary"
           }
          ],
          "surface": [
           {
            "colorbar": {
             "outlinewidth": 0,
             "ticks": ""
            },
            "colorscale": [
             [
              0,
              "#0d0887"
             ],
             [
              0.1111111111111111,
              "#46039f"
             ],
             [
              0.2222222222222222,
              "#7201a8"
             ],
             [
              0.3333333333333333,
              "#9c179e"
             ],
             [
              0.4444444444444444,
              "#bd3786"
             ],
             [
              0.5555555555555556,
              "#d8576b"
             ],
             [
              0.6666666666666666,
              "#ed7953"
             ],
             [
              0.7777777777777778,
              "#fb9f3a"
             ],
             [
              0.8888888888888888,
              "#fdca26"
             ],
             [
              1,
              "#f0f921"
             ]
            ],
            "type": "surface"
           }
          ],
          "table": [
           {
            "cells": {
             "fill": {
              "color": "#EBF0F8"
             },
             "line": {
              "color": "white"
             }
            },
            "header": {
             "fill": {
              "color": "#C8D4E3"
             },
             "line": {
              "color": "white"
             }
            },
            "type": "table"
           }
          ]
         },
         "layout": {
          "annotationdefaults": {
           "arrowcolor": "#2a3f5f",
           "arrowhead": 0,
           "arrowwidth": 1
          },
          "autotypenumbers": "strict",
          "coloraxis": {
           "colorbar": {
            "outlinewidth": 0,
            "ticks": ""
           }
          },
          "colorscale": {
           "diverging": [
            [
             0,
             "#8e0152"
            ],
            [
             0.1,
             "#c51b7d"
            ],
            [
             0.2,
             "#de77ae"
            ],
            [
             0.3,
             "#f1b6da"
            ],
            [
             0.4,
             "#fde0ef"
            ],
            [
             0.5,
             "#f7f7f7"
            ],
            [
             0.6,
             "#e6f5d0"
            ],
            [
             0.7,
             "#b8e186"
            ],
            [
             0.8,
             "#7fbc41"
            ],
            [
             0.9,
             "#4d9221"
            ],
            [
             1,
             "#276419"
            ]
           ],
           "sequential": [
            [
             0,
             "#0d0887"
            ],
            [
             0.1111111111111111,
             "#46039f"
            ],
            [
             0.2222222222222222,
             "#7201a8"
            ],
            [
             0.3333333333333333,
             "#9c179e"
            ],
            [
             0.4444444444444444,
             "#bd3786"
            ],
            [
             0.5555555555555556,
             "#d8576b"
            ],
            [
             0.6666666666666666,
             "#ed7953"
            ],
            [
             0.7777777777777778,
             "#fb9f3a"
            ],
            [
             0.8888888888888888,
             "#fdca26"
            ],
            [
             1,
             "#f0f921"
            ]
           ],
           "sequentialminus": [
            [
             0,
             "#0d0887"
            ],
            [
             0.1111111111111111,
             "#46039f"
            ],
            [
             0.2222222222222222,
             "#7201a8"
            ],
            [
             0.3333333333333333,
             "#9c179e"
            ],
            [
             0.4444444444444444,
             "#bd3786"
            ],
            [
             0.5555555555555556,
             "#d8576b"
            ],
            [
             0.6666666666666666,
             "#ed7953"
            ],
            [
             0.7777777777777778,
             "#fb9f3a"
            ],
            [
             0.8888888888888888,
             "#fdca26"
            ],
            [
             1,
             "#f0f921"
            ]
           ]
          },
          "colorway": [
           "#636efa",
           "#EF553B",
           "#00cc96",
           "#ab63fa",
           "#FFA15A",
           "#19d3f3",
           "#FF6692",
           "#B6E880",
           "#FF97FF",
           "#FECB52"
          ],
          "font": {
           "color": "#2a3f5f"
          },
          "geo": {
           "bgcolor": "white",
           "lakecolor": "white",
           "landcolor": "#E5ECF6",
           "showlakes": true,
           "showland": true,
           "subunitcolor": "white"
          },
          "hoverlabel": {
           "align": "left"
          },
          "hovermode": "closest",
          "mapbox": {
           "style": "light"
          },
          "paper_bgcolor": "white",
          "plot_bgcolor": "#E5ECF6",
          "polar": {
           "angularaxis": {
            "gridcolor": "white",
            "linecolor": "white",
            "ticks": ""
           },
           "bgcolor": "#E5ECF6",
           "radialaxis": {
            "gridcolor": "white",
            "linecolor": "white",
            "ticks": ""
           }
          },
          "scene": {
           "xaxis": {
            "backgroundcolor": "#E5ECF6",
            "gridcolor": "white",
            "gridwidth": 2,
            "linecolor": "white",
            "showbackground": true,
            "ticks": "",
            "zerolinecolor": "white"
           },
           "yaxis": {
            "backgroundcolor": "#E5ECF6",
            "gridcolor": "white",
            "gridwidth": 2,
            "linecolor": "white",
            "showbackground": true,
            "ticks": "",
            "zerolinecolor": "white"
           },
           "zaxis": {
            "backgroundcolor": "#E5ECF6",
            "gridcolor": "white",
            "gridwidth": 2,
            "linecolor": "white",
            "showbackground": true,
            "ticks": "",
            "zerolinecolor": "white"
           }
          },
          "shapedefaults": {
           "line": {
            "color": "#2a3f5f"
           }
          },
          "ternary": {
           "aaxis": {
            "gridcolor": "white",
            "linecolor": "white",
            "ticks": ""
           },
           "baxis": {
            "gridcolor": "white",
            "linecolor": "white",
            "ticks": ""
           },
           "bgcolor": "#E5ECF6",
           "caxis": {
            "gridcolor": "white",
            "linecolor": "white",
            "ticks": ""
           }
          },
          "title": {
           "x": 0.05
          },
          "xaxis": {
           "automargin": true,
           "gridcolor": "white",
           "linecolor": "white",
           "ticks": "",
           "title": {
            "standoff": 15
           },
           "zerolinecolor": "white",
           "zerolinewidth": 2
          },
          "yaxis": {
           "automargin": true,
           "gridcolor": "white",
           "linecolor": "white",
           "ticks": "",
           "title": {
            "standoff": 15
           },
           "zerolinecolor": "white",
           "zerolinewidth": 2
          }
         }
        },
        "xaxis": {
         "anchor": "y",
         "domain": [
          0,
          1
         ],
         "title": {
          "text": "date"
         }
        },
        "yaxis": {
         "anchor": "x",
         "domain": [
          0,
          1
         ],
         "title": {
          "text": "NDVI"
         }
        }
       }
      },
      "text/html": [
       "<div>                            <div id=\"2a6a6875-b996-4ffa-ad19-7a90f8d1d8ad\" class=\"plotly-graph-div\" style=\"height:525px; width:100%;\"></div>            <script type=\"text/javascript\">                require([\"plotly\"], function(Plotly) {                    window.PLOTLYENV=window.PLOTLYENV || {};                                    if (document.getElementById(\"2a6a6875-b996-4ffa-ad19-7a90f8d1d8ad\")) {                    Plotly.newPlot(                        \"2a6a6875-b996-4ffa-ad19-7a90f8d1d8ad\",                        [{\"hovertemplate\":\"date=%{x}\\u003cbr\\u003eNDVI=%{y}\\u003cextra\\u003e\\u003c\\u002fextra\\u003e\",\"legendgroup\":\"\",\"line\":{\"color\":\"#636efa\",\"dash\":\"solid\"},\"marker\":{\"symbol\":\"circle\"},\"mode\":\"lines\",\"name\":\"\",\"orientation\":\"v\",\"showlegend\":false,\"x\":[\"2013-12-23T00:00:00\",\"2014-01-01T00:00:00\",\"2014-02-02T00:00:00\",\"2014-03-06T00:00:00\",\"2014-04-07T00:00:00\",\"2014-05-09T00:00:00\"],\"xaxis\":\"x\",\"y\":[0.043876491487026215,0.043876491487026215,0.25750529766082764,0.04718989133834839,0.7072688341140747,0.06629633158445358],\"yaxis\":\"y\",\"type\":\"scatter\"}],                        {\"template\":{\"data\":{\"histogram2dcontour\":[{\"type\":\"histogram2dcontour\",\"colorbar\":{\"outlinewidth\":0,\"ticks\":\"\"},\"colorscale\":[[0.0,\"#0d0887\"],[0.1111111111111111,\"#46039f\"],[0.2222222222222222,\"#7201a8\"],[0.3333333333333333,\"#9c179e\"],[0.4444444444444444,\"#bd3786\"],[0.5555555555555556,\"#d8576b\"],[0.6666666666666666,\"#ed7953\"],[0.7777777777777778,\"#fb9f3a\"],[0.8888888888888888,\"#fdca26\"],[1.0,\"#f0f921\"]]}],\"choropleth\":[{\"type\":\"choropleth\",\"colorbar\":{\"outlinewidth\":0,\"ticks\":\"\"}}],\"histogram2d\":[{\"type\":\"histogram2d\",\"colorbar\":{\"outlinewidth\":0,\"ticks\":\"\"},\"colorscale\":[[0.0,\"#0d0887\"],[0.1111111111111111,\"#46039f\"],[0.2222222222222222,\"#7201a8\"],[0.3333333333333333,\"#9c179e\"],[0.4444444444444444,\"#bd3786\"],[0.5555555555555556,\"#d8576b\"],[0.6666666666666666,\"#ed7953\"],[0.7777777777777778,\"#fb9f3a\"],[0.8888888888888888,\"#fdca26\"],[1.0,\"#f0f921\"]]}],\"heatmap\":[{\"type\":\"heatmap\",\"colorbar\":{\"outlinewidth\":0,\"ticks\":\"\"},\"colorscale\":[[0.0,\"#0d0887\"],[0.1111111111111111,\"#46039f\"],[0.2222222222222222,\"#7201a8\"],[0.3333333333333333,\"#9c179e\"],[0.4444444444444444,\"#bd3786\"],[0.5555555555555556,\"#d8576b\"],[0.6666666666666666,\"#ed7953\"],[0.7777777777777778,\"#fb9f3a\"],[0.8888888888888888,\"#fdca26\"],[1.0,\"#f0f921\"]]}],\"heatmapgl\":[{\"type\":\"heatmapgl\",\"colorbar\":{\"outlinewidth\":0,\"ticks\":\"\"},\"colorscale\":[[0.0,\"#0d0887\"],[0.1111111111111111,\"#46039f\"],[0.2222222222222222,\"#7201a8\"],[0.3333333333333333,\"#9c179e\"],[0.4444444444444444,\"#bd3786\"],[0.5555555555555556,\"#d8576b\"],[0.6666666666666666,\"#ed7953\"],[0.7777777777777778,\"#fb9f3a\"],[0.8888888888888888,\"#fdca26\"],[1.0,\"#f0f921\"]]}],\"contourcarpet\":[{\"type\":\"contourcarpet\",\"colorbar\":{\"outlinewidth\":0,\"ticks\":\"\"}}],\"contour\":[{\"type\":\"contour\",\"colorbar\":{\"outlinewidth\":0,\"ticks\":\"\"},\"colorscale\":[[0.0,\"#0d0887\"],[0.1111111111111111,\"#46039f\"],[0.2222222222222222,\"#7201a8\"],[0.3333333333333333,\"#9c179e\"],[0.4444444444444444,\"#bd3786\"],[0.5555555555555556,\"#d8576b\"],[0.6666666666666666,\"#ed7953\"],[0.7777777777777778,\"#fb9f3a\"],[0.8888888888888888,\"#fdca26\"],[1.0,\"#f0f921\"]]}],\"surface\":[{\"type\":\"surface\",\"colorbar\":{\"outlinewidth\":0,\"ticks\":\"\"},\"colorscale\":[[0.0,\"#0d0887\"],[0.1111111111111111,\"#46039f\"],[0.2222222222222222,\"#7201a8\"],[0.3333333333333333,\"#9c179e\"],[0.4444444444444444,\"#bd3786\"],[0.5555555555555556,\"#d8576b\"],[0.6666666666666666,\"#ed7953\"],[0.7777777777777778,\"#fb9f3a\"],[0.8888888888888888,\"#fdca26\"],[1.0,\"#f0f921\"]]}],\"mesh3d\":[{\"type\":\"mesh3d\",\"colorbar\":{\"outlinewidth\":0,\"ticks\":\"\"}}],\"scatter\":[{\"fillpattern\":{\"fillmode\":\"overlay\",\"size\":10,\"solidity\":0.2},\"type\":\"scatter\"}],\"parcoords\":[{\"type\":\"parcoords\",\"line\":{\"colorbar\":{\"outlinewidth\":0,\"ticks\":\"\"}}}],\"scatterpolargl\":[{\"type\":\"scatterpolargl\",\"marker\":{\"colorbar\":{\"outlinewidth\":0,\"ticks\":\"\"}}}],\"bar\":[{\"error_x\":{\"color\":\"#2a3f5f\"},\"error_y\":{\"color\":\"#2a3f5f\"},\"marker\":{\"line\":{\"color\":\"#E5ECF6\",\"width\":0.5},\"pattern\":{\"fillmode\":\"overlay\",\"size\":10,\"solidity\":0.2}},\"type\":\"bar\"}],\"scattergeo\":[{\"type\":\"scattergeo\",\"marker\":{\"colorbar\":{\"outlinewidth\":0,\"ticks\":\"\"}}}],\"scatterpolar\":[{\"type\":\"scatterpolar\",\"marker\":{\"colorbar\":{\"outlinewidth\":0,\"ticks\":\"\"}}}],\"histogram\":[{\"marker\":{\"pattern\":{\"fillmode\":\"overlay\",\"size\":10,\"solidity\":0.2}},\"type\":\"histogram\"}],\"scattergl\":[{\"type\":\"scattergl\",\"marker\":{\"colorbar\":{\"outlinewidth\":0,\"ticks\":\"\"}}}],\"scatter3d\":[{\"type\":\"scatter3d\",\"line\":{\"colorbar\":{\"outlinewidth\":0,\"ticks\":\"\"}},\"marker\":{\"colorbar\":{\"outlinewidth\":0,\"ticks\":\"\"}}}],\"scattermapbox\":[{\"type\":\"scattermapbox\",\"marker\":{\"colorbar\":{\"outlinewidth\":0,\"ticks\":\"\"}}}],\"scatterternary\":[{\"type\":\"scatterternary\",\"marker\":{\"colorbar\":{\"outlinewidth\":0,\"ticks\":\"\"}}}],\"scattercarpet\":[{\"type\":\"scattercarpet\",\"marker\":{\"colorbar\":{\"outlinewidth\":0,\"ticks\":\"\"}}}],\"carpet\":[{\"aaxis\":{\"endlinecolor\":\"#2a3f5f\",\"gridcolor\":\"white\",\"linecolor\":\"white\",\"minorgridcolor\":\"white\",\"startlinecolor\":\"#2a3f5f\"},\"baxis\":{\"endlinecolor\":\"#2a3f5f\",\"gridcolor\":\"white\",\"linecolor\":\"white\",\"minorgridcolor\":\"white\",\"startlinecolor\":\"#2a3f5f\"},\"type\":\"carpet\"}],\"table\":[{\"cells\":{\"fill\":{\"color\":\"#EBF0F8\"},\"line\":{\"color\":\"white\"}},\"header\":{\"fill\":{\"color\":\"#C8D4E3\"},\"line\":{\"color\":\"white\"}},\"type\":\"table\"}],\"barpolar\":[{\"marker\":{\"line\":{\"color\":\"#E5ECF6\",\"width\":0.5},\"pattern\":{\"fillmode\":\"overlay\",\"size\":10,\"solidity\":0.2}},\"type\":\"barpolar\"}],\"pie\":[{\"automargin\":true,\"type\":\"pie\"}]},\"layout\":{\"autotypenumbers\":\"strict\",\"colorway\":[\"#636efa\",\"#EF553B\",\"#00cc96\",\"#ab63fa\",\"#FFA15A\",\"#19d3f3\",\"#FF6692\",\"#B6E880\",\"#FF97FF\",\"#FECB52\"],\"font\":{\"color\":\"#2a3f5f\"},\"hovermode\":\"closest\",\"hoverlabel\":{\"align\":\"left\"},\"paper_bgcolor\":\"white\",\"plot_bgcolor\":\"#E5ECF6\",\"polar\":{\"bgcolor\":\"#E5ECF6\",\"angularaxis\":{\"gridcolor\":\"white\",\"linecolor\":\"white\",\"ticks\":\"\"},\"radialaxis\":{\"gridcolor\":\"white\",\"linecolor\":\"white\",\"ticks\":\"\"}},\"ternary\":{\"bgcolor\":\"#E5ECF6\",\"aaxis\":{\"gridcolor\":\"white\",\"linecolor\":\"white\",\"ticks\":\"\"},\"baxis\":{\"gridcolor\":\"white\",\"linecolor\":\"white\",\"ticks\":\"\"},\"caxis\":{\"gridcolor\":\"white\",\"linecolor\":\"white\",\"ticks\":\"\"}},\"coloraxis\":{\"colorbar\":{\"outlinewidth\":0,\"ticks\":\"\"}},\"colorscale\":{\"sequential\":[[0.0,\"#0d0887\"],[0.1111111111111111,\"#46039f\"],[0.2222222222222222,\"#7201a8\"],[0.3333333333333333,\"#9c179e\"],[0.4444444444444444,\"#bd3786\"],[0.5555555555555556,\"#d8576b\"],[0.6666666666666666,\"#ed7953\"],[0.7777777777777778,\"#fb9f3a\"],[0.8888888888888888,\"#fdca26\"],[1.0,\"#f0f921\"]],\"sequentialminus\":[[0.0,\"#0d0887\"],[0.1111111111111111,\"#46039f\"],[0.2222222222222222,\"#7201a8\"],[0.3333333333333333,\"#9c179e\"],[0.4444444444444444,\"#bd3786\"],[0.5555555555555556,\"#d8576b\"],[0.6666666666666666,\"#ed7953\"],[0.7777777777777778,\"#fb9f3a\"],[0.8888888888888888,\"#fdca26\"],[1.0,\"#f0f921\"]],\"diverging\":[[0,\"#8e0152\"],[0.1,\"#c51b7d\"],[0.2,\"#de77ae\"],[0.3,\"#f1b6da\"],[0.4,\"#fde0ef\"],[0.5,\"#f7f7f7\"],[0.6,\"#e6f5d0\"],[0.7,\"#b8e186\"],[0.8,\"#7fbc41\"],[0.9,\"#4d9221\"],[1,\"#276419\"]]},\"xaxis\":{\"gridcolor\":\"white\",\"linecolor\":\"white\",\"ticks\":\"\",\"title\":{\"standoff\":15},\"zerolinecolor\":\"white\",\"automargin\":true,\"zerolinewidth\":2},\"yaxis\":{\"gridcolor\":\"white\",\"linecolor\":\"white\",\"ticks\":\"\",\"title\":{\"standoff\":15},\"zerolinecolor\":\"white\",\"automargin\":true,\"zerolinewidth\":2},\"scene\":{\"xaxis\":{\"backgroundcolor\":\"#E5ECF6\",\"gridcolor\":\"white\",\"linecolor\":\"white\",\"showbackground\":true,\"ticks\":\"\",\"zerolinecolor\":\"white\",\"gridwidth\":2},\"yaxis\":{\"backgroundcolor\":\"#E5ECF6\",\"gridcolor\":\"white\",\"linecolor\":\"white\",\"showbackground\":true,\"ticks\":\"\",\"zerolinecolor\":\"white\",\"gridwidth\":2},\"zaxis\":{\"backgroundcolor\":\"#E5ECF6\",\"gridcolor\":\"white\",\"linecolor\":\"white\",\"showbackground\":true,\"ticks\":\"\",\"zerolinecolor\":\"white\",\"gridwidth\":2}},\"shapedefaults\":{\"line\":{\"color\":\"#2a3f5f\"}},\"annotationdefaults\":{\"arrowcolor\":\"#2a3f5f\",\"arrowhead\":0,\"arrowwidth\":1},\"geo\":{\"bgcolor\":\"white\",\"landcolor\":\"#E5ECF6\",\"subunitcolor\":\"white\",\"showland\":true,\"showlakes\":true,\"lakecolor\":\"white\"},\"title\":{\"x\":0.05},\"mapbox\":{\"style\":\"light\"}}},\"xaxis\":{\"anchor\":\"y\",\"domain\":[0.0,1.0],\"title\":{\"text\":\"date\"}},\"yaxis\":{\"anchor\":\"x\",\"domain\":[0.0,1.0],\"title\":{\"text\":\"NDVI\"}},\"legend\":{\"tracegroupgap\":0},\"margin\":{\"t\":60}},                        {\"responsive\": true}                    ).then(function(){\n",
       "                            \n",
       "var gd = document.getElementById('2a6a6875-b996-4ffa-ad19-7a90f8d1d8ad');\n",
       "var x = new MutationObserver(function (mutations, observer) {{\n",
       "        var display = window.getComputedStyle(gd).display;\n",
       "        if (!display || display === 'none') {{\n",
       "            console.log([gd, 'removed!']);\n",
       "            Plotly.purge(gd);\n",
       "            observer.disconnect();\n",
       "        }}\n",
       "}});\n",
       "\n",
       "// Listen for the removal of the full notebook cells\n",
       "var notebookContainer = gd.closest('#notebook-container');\n",
       "if (notebookContainer) {{\n",
       "    x.observe(notebookContainer, {childList: true});\n",
       "}}\n",
       "\n",
       "// Listen for the clearing of the current output cell\n",
       "var outputEl = gd.closest('.output');\n",
       "if (outputEl) {{\n",
       "    x.observe(outputEl, {childList: true});\n",
       "}}\n",
       "\n",
       "                        })                };                });            </script>        </div>"
      ]
     },
     "metadata": {},
     "output_type": "display_data"
    }
   ],
   "source": [
    "v_df = px.data.stocks()\n",
    "fig = px.line(df_filtered, x='date', y=\"NDVI\")\n",
    "fig.show()"
   ]
  },
  {
   "cell_type": "markdown",
   "id": "07f2ce03",
   "metadata": {},
   "source": [
    "### PART 2"
   ]
  },
  {
   "cell_type": "code",
   "execution_count": 159,
   "id": "07795611",
   "metadata": {
    "scrolled": true
   },
   "outputs": [
    {
     "data": {
      "text/html": [
       "<div>\n",
       "<style scoped>\n",
       "    .dataframe tbody tr th:only-of-type {\n",
       "        vertical-align: middle;\n",
       "    }\n",
       "\n",
       "    .dataframe tbody tr th {\n",
       "        vertical-align: top;\n",
       "    }\n",
       "\n",
       "    .dataframe thead th {\n",
       "        text-align: right;\n",
       "    }\n",
       "</style>\n",
       "<table border=\"1\" class=\"dataframe\">\n",
       "  <thead>\n",
       "    <tr style=\"text-align: right;\">\n",
       "      <th></th>\n",
       "      <th>Location</th>\n",
       "      <th>coordinate x</th>\n",
       "      <th>coordinate y</th>\n",
       "      <th>NDVI_DEC_2013</th>\n",
       "      <th>EVI_DEC_2013</th>\n",
       "      <th>NDVI_JAN_2014</th>\n",
       "      <th>EVI_JAN_2014</th>\n",
       "      <th>NDVI_FEB_2014</th>\n",
       "      <th>EVI_FEB_2014</th>\n",
       "      <th>NDVI_MAR_2014</th>\n",
       "      <th>EVI_MAR_2014</th>\n",
       "      <th>NDVI_APR_2014</th>\n",
       "      <th>EVI_APR_2014</th>\n",
       "      <th>NDVI_MAY_2014</th>\n",
       "      <th>EVI_MAY_2014</th>\n",
       "    </tr>\n",
       "  </thead>\n",
       "  <tbody>\n",
       "    <tr>\n",
       "      <th>0</th>\n",
       "      <td>AGUGLIANO</td>\n",
       "      <td>13.36300</td>\n",
       "      <td>43.545000</td>\n",
       "      <td>0.043876</td>\n",
       "      <td>0.273331</td>\n",
       "      <td>0.043876</td>\n",
       "      <td>0.273331</td>\n",
       "      <td>0.257505</td>\n",
       "      <td>0.288275</td>\n",
       "      <td>0.047190</td>\n",
       "      <td>0.283640</td>\n",
       "      <td>0.707269</td>\n",
       "      <td>0.716885</td>\n",
       "      <td>0.066296</td>\n",
       "      <td>0.303205</td>\n",
       "    </tr>\n",
       "    <tr>\n",
       "      <th>1</th>\n",
       "      <td>ARGELATO</td>\n",
       "      <td>11.34445</td>\n",
       "      <td>44.650532</td>\n",
       "      <td>0.493778</td>\n",
       "      <td>0.546566</td>\n",
       "      <td>0.574462</td>\n",
       "      <td>0.623811</td>\n",
       "      <td>NaN</td>\n",
       "      <td>NaN</td>\n",
       "      <td>0.655395</td>\n",
       "      <td>0.760731</td>\n",
       "      <td>0.766244</td>\n",
       "      <td>0.825879</td>\n",
       "      <td>0.432290</td>\n",
       "      <td>0.443176</td>\n",
       "    </tr>\n",
       "    <tr>\n",
       "      <th>2</th>\n",
       "      <td>CAMMARATA</td>\n",
       "      <td>13.73084</td>\n",
       "      <td>37.634871</td>\n",
       "      <td>0.013995</td>\n",
       "      <td>0.140016</td>\n",
       "      <td>0.013995</td>\n",
       "      <td>0.140016</td>\n",
       "      <td>0.490471</td>\n",
       "      <td>0.576410</td>\n",
       "      <td>0.183312</td>\n",
       "      <td>0.512542</td>\n",
       "      <td>0.408208</td>\n",
       "      <td>0.377535</td>\n",
       "      <td>0.347182</td>\n",
       "      <td>0.376438</td>\n",
       "    </tr>\n",
       "  </tbody>\n",
       "</table>\n",
       "</div>"
      ],
      "text/plain": [
       "    Location  coordinate x  coordinate y  NDVI_DEC_2013  EVI_DEC_2013  \\\n",
       "0  AGUGLIANO      13.36300     43.545000       0.043876      0.273331   \n",
       "1   ARGELATO      11.34445     44.650532       0.493778      0.546566   \n",
       "2  CAMMARATA      13.73084     37.634871       0.013995      0.140016   \n",
       "\n",
       "   NDVI_JAN_2014  EVI_JAN_2014  NDVI_FEB_2014  EVI_FEB_2014  NDVI_MAR_2014  \\\n",
       "0       0.043876      0.273331       0.257505      0.288275       0.047190   \n",
       "1       0.574462      0.623811            NaN           NaN       0.655395   \n",
       "2       0.013995      0.140016       0.490471      0.576410       0.183312   \n",
       "\n",
       "   EVI_MAR_2014  NDVI_APR_2014  EVI_APR_2014  NDVI_MAY_2014  EVI_MAY_2014  \n",
       "0      0.283640       0.707269      0.716885       0.066296      0.303205  \n",
       "1      0.760731       0.766244      0.825879       0.432290      0.443176  \n",
       "2      0.512542       0.408208      0.377535       0.347182      0.376438  "
      ]
     },
     "execution_count": 159,
     "metadata": {},
     "output_type": "execute_result"
    }
   ],
   "source": [
    "def format_year_month_with_prefix(year, month, prefix):\n",
    "    month_str_mapping = {\n",
    "        1: 'JAN', 2: 'FEB', 3: 'MAR', 4: 'APR', 5: 'MAY', 6: 'JUN',\n",
    "        7: 'JUL', 8: 'AUG', 9: 'SEP', 10: 'OCT', 11: 'NOV', 12: 'DEC'\n",
    "    }\n",
    "    month_str = month_str_mapping[month]\n",
    "    formatted_str = prefix + month_str + \"_\" + str(year)\n",
    "    return formatted_str\n",
    "\n",
    "# Initialize a list to store the data dictionaries for each location\n",
    "data_dicts = []\n",
    "\n",
    "locations = df['Location'].unique()\n",
    "\n",
    "for location in locations:\n",
    "    location_df = df[df['Location'] == location].iloc[0]  # get the first row for location\n",
    "    data_dict = {\n",
    "        'Location': location,\n",
    "        'coordinate x': location_df['coordinate x'],  # assuming you have a 'coordinate x' column\n",
    "        'coordinate y': location_df['coordinate y']   # assuming you have a 'coordinate y' column\n",
    "    }\n",
    "    \n",
    "    for _, row in df[df['Location'] == location].iterrows():\n",
    "        ndvi_col = format_year_month_with_prefix(row['year'], row['month'], 'NDVI_')\n",
    "        evi_col = format_year_month_with_prefix(row['year'], row['month'], 'EVI_')\n",
    "        data_dict[ndvi_col] = row['NDVI']\n",
    "        data_dict[evi_col] = row['EVI']\n",
    "\n",
    "    data_dicts.append(data_dict)\n",
    "\n",
    "# Convert list of dictionaries into a DataFrame\n",
    "result_df = pd.DataFrame(data_dicts)\n",
    "\n",
    "# Ensuring the location is a categorical column for correct sorting\n",
    "result_df['Location'] = result_df['Location'].astype('category')\n",
    "\n",
    "# Results\n",
    "result_df.head(3)"
   ]
  },
  {
   "cell_type": "code",
   "execution_count": 160,
   "id": "7e128296",
   "metadata": {
    "scrolled": true
   },
   "outputs": [
    {
     "data": {
      "text/html": [
       "<div>\n",
       "<style scoped>\n",
       "    .dataframe tbody tr th:only-of-type {\n",
       "        vertical-align: middle;\n",
       "    }\n",
       "\n",
       "    .dataframe tbody tr th {\n",
       "        vertical-align: top;\n",
       "    }\n",
       "\n",
       "    .dataframe thead th {\n",
       "        text-align: right;\n",
       "    }\n",
       "</style>\n",
       "<table border=\"1\" class=\"dataframe\">\n",
       "  <thead>\n",
       "    <tr style=\"text-align: right;\">\n",
       "      <th></th>\n",
       "      <th>Location</th>\n",
       "      <th>TMP_DEC_2013</th>\n",
       "      <th>AMT_DEC_2013</th>\n",
       "      <th>MaxT_DEC_2013</th>\n",
       "      <th>MinT_DEC_2013</th>\n",
       "      <th>TMP_JAN_2014</th>\n",
       "      <th>AMT_JAN_2014</th>\n",
       "      <th>MaxT_JAN_2014</th>\n",
       "      <th>MinT_JAN_2014</th>\n",
       "      <th>TMP_FEB_2014</th>\n",
       "      <th>...</th>\n",
       "      <th>MaxT_MAR_2014</th>\n",
       "      <th>MinT_MAR_2014</th>\n",
       "      <th>TMP_APR_2014</th>\n",
       "      <th>AMT_APR_2014</th>\n",
       "      <th>MaxT_APR_2014</th>\n",
       "      <th>MinT_APR_2014</th>\n",
       "      <th>TMP_MAY_2014</th>\n",
       "      <th>AMT_MAY_2014</th>\n",
       "      <th>MaxT_MAY_2014</th>\n",
       "      <th>MinT_MAY_2014</th>\n",
       "    </tr>\n",
       "  </thead>\n",
       "  <tbody>\n",
       "    <tr>\n",
       "      <th>0</th>\n",
       "      <td>S.STEFANO QUISQUINIA</td>\n",
       "      <td>56.7</td>\n",
       "      <td>11.306452</td>\n",
       "      <td>14.8</td>\n",
       "      <td>7.4</td>\n",
       "      <td>80.6</td>\n",
       "      <td>10.880645</td>\n",
       "      <td>15.8</td>\n",
       "      <td>7.6</td>\n",
       "      <td>72.3</td>\n",
       "      <td>...</td>\n",
       "      <td>15.2</td>\n",
       "      <td>6.1</td>\n",
       "      <td>50.9</td>\n",
       "      <td>14.380000</td>\n",
       "      <td>19.1</td>\n",
       "      <td>9.6</td>\n",
       "      <td>25.3</td>\n",
       "      <td>17.441935</td>\n",
       "      <td>22.0</td>\n",
       "      <td>13.4</td>\n",
       "    </tr>\n",
       "    <tr>\n",
       "      <th>1</th>\n",
       "      <td>CAMMARATA</td>\n",
       "      <td>53.1</td>\n",
       "      <td>9.877419</td>\n",
       "      <td>12.0</td>\n",
       "      <td>6.5</td>\n",
       "      <td>80.9</td>\n",
       "      <td>9.251613</td>\n",
       "      <td>13.3</td>\n",
       "      <td>4.9</td>\n",
       "      <td>69.0</td>\n",
       "      <td>...</td>\n",
       "      <td>16.5</td>\n",
       "      <td>4.9</td>\n",
       "      <td>55.8</td>\n",
       "      <td>13.096667</td>\n",
       "      <td>18.0</td>\n",
       "      <td>7.6</td>\n",
       "      <td>29.2</td>\n",
       "      <td>16.461290</td>\n",
       "      <td>21.2</td>\n",
       "      <td>12.5</td>\n",
       "    </tr>\n",
       "    <tr>\n",
       "      <th>2</th>\n",
       "      <td>LIBERTINIA</td>\n",
       "      <td>63.1</td>\n",
       "      <td>10.735484</td>\n",
       "      <td>13.2</td>\n",
       "      <td>8.4</td>\n",
       "      <td>54.5</td>\n",
       "      <td>10.629032</td>\n",
       "      <td>14.4</td>\n",
       "      <td>7.3</td>\n",
       "      <td>69.2</td>\n",
       "      <td>...</td>\n",
       "      <td>16.2</td>\n",
       "      <td>6.8</td>\n",
       "      <td>40.0</td>\n",
       "      <td>14.740000</td>\n",
       "      <td>19.1</td>\n",
       "      <td>9.1</td>\n",
       "      <td>14.9</td>\n",
       "      <td>17.925806</td>\n",
       "      <td>22.8</td>\n",
       "      <td>14.3</td>\n",
       "    </tr>\n",
       "  </tbody>\n",
       "</table>\n",
       "<p>3 rows × 25 columns</p>\n",
       "</div>"
      ],
      "text/plain": [
       "               Location  TMP_DEC_2013  AMT_DEC_2013  MaxT_DEC_2013  \\\n",
       "0  S.STEFANO QUISQUINIA          56.7     11.306452           14.8   \n",
       "1             CAMMARATA          53.1      9.877419           12.0   \n",
       "2            LIBERTINIA          63.1     10.735484           13.2   \n",
       "\n",
       "   MinT_DEC_2013  TMP_JAN_2014  AMT_JAN_2014  MaxT_JAN_2014  MinT_JAN_2014  \\\n",
       "0            7.4          80.6     10.880645           15.8            7.6   \n",
       "1            6.5          80.9      9.251613           13.3            4.9   \n",
       "2            8.4          54.5     10.629032           14.4            7.3   \n",
       "\n",
       "   TMP_FEB_2014  ...  MaxT_MAR_2014  MinT_MAR_2014  TMP_APR_2014  \\\n",
       "0          72.3  ...           15.2            6.1          50.9   \n",
       "1          69.0  ...           16.5            4.9          55.8   \n",
       "2          69.2  ...           16.2            6.8          40.0   \n",
       "\n",
       "   AMT_APR_2014  MaxT_APR_2014  MinT_APR_2014  TMP_MAY_2014  AMT_MAY_2014  \\\n",
       "0     14.380000           19.1            9.6          25.3     17.441935   \n",
       "1     13.096667           18.0            7.6          29.2     16.461290   \n",
       "2     14.740000           19.1            9.1          14.9     17.925806   \n",
       "\n",
       "   MaxT_MAY_2014  MinT_MAY_2014  \n",
       "0           22.0           13.4  \n",
       "1           21.2           12.5  \n",
       "2           22.8           14.3  \n",
       "\n",
       "[3 rows x 25 columns]"
      ]
     },
     "execution_count": 160,
     "metadata": {},
     "output_type": "execute_result"
    }
   ],
   "source": [
    "rt_df = pd.read_csv(r\"C:\\Users\\AdamMorgan\\OneDrive\\UCL\\Research Project\\Code and results\\Temp and rainfall\\temp_rainfall.csv\")\n",
    "rt_df.head(3)"
   ]
  },
  {
   "cell_type": "code",
   "execution_count": 161,
   "id": "42a9b821",
   "metadata": {},
   "outputs": [
    {
     "data": {
      "text/html": [
       "<div>\n",
       "<style scoped>\n",
       "    .dataframe tbody tr th:only-of-type {\n",
       "        vertical-align: middle;\n",
       "    }\n",
       "\n",
       "    .dataframe tbody tr th {\n",
       "        vertical-align: top;\n",
       "    }\n",
       "\n",
       "    .dataframe thead th {\n",
       "        text-align: right;\n",
       "    }\n",
       "</style>\n",
       "<table border=\"1\" class=\"dataframe\">\n",
       "  <thead>\n",
       "    <tr style=\"text-align: right;\">\n",
       "      <th></th>\n",
       "      <th>Location</th>\n",
       "      <th>coordinate x</th>\n",
       "      <th>coordinate y</th>\n",
       "      <th>NDVI_DEC_2013</th>\n",
       "      <th>EVI_DEC_2013</th>\n",
       "      <th>NDVI_JAN_2014</th>\n",
       "      <th>EVI_JAN_2014</th>\n",
       "      <th>NDVI_FEB_2014</th>\n",
       "      <th>EVI_FEB_2014</th>\n",
       "      <th>NDVI_MAR_2014</th>\n",
       "      <th>...</th>\n",
       "      <th>MaxT_MAR_2014</th>\n",
       "      <th>MinT_MAR_2014</th>\n",
       "      <th>TMP_APR_2014</th>\n",
       "      <th>AMT_APR_2014</th>\n",
       "      <th>MaxT_APR_2014</th>\n",
       "      <th>MinT_APR_2014</th>\n",
       "      <th>TMP_MAY_2014</th>\n",
       "      <th>AMT_MAY_2014</th>\n",
       "      <th>MaxT_MAY_2014</th>\n",
       "      <th>MinT_MAY_2014</th>\n",
       "    </tr>\n",
       "  </thead>\n",
       "  <tbody>\n",
       "    <tr>\n",
       "      <th>0</th>\n",
       "      <td>AGUGLIANO</td>\n",
       "      <td>13.36300</td>\n",
       "      <td>43.545000</td>\n",
       "      <td>0.043876</td>\n",
       "      <td>0.273331</td>\n",
       "      <td>0.043876</td>\n",
       "      <td>0.273331</td>\n",
       "      <td>0.257505</td>\n",
       "      <td>0.288275</td>\n",
       "      <td>0.047190</td>\n",
       "      <td>...</td>\n",
       "      <td>16.4</td>\n",
       "      <td>6.9</td>\n",
       "      <td>55.0</td>\n",
       "      <td>13.533333</td>\n",
       "      <td>16.5</td>\n",
       "      <td>10.1</td>\n",
       "      <td>57.3</td>\n",
       "      <td>16.519355</td>\n",
       "      <td>21.5</td>\n",
       "      <td>11.7</td>\n",
       "    </tr>\n",
       "    <tr>\n",
       "      <th>1</th>\n",
       "      <td>ARGELATO</td>\n",
       "      <td>11.34445</td>\n",
       "      <td>44.650532</td>\n",
       "      <td>0.493778</td>\n",
       "      <td>0.546566</td>\n",
       "      <td>0.574462</td>\n",
       "      <td>0.623811</td>\n",
       "      <td>NaN</td>\n",
       "      <td>NaN</td>\n",
       "      <td>0.655395</td>\n",
       "      <td>...</td>\n",
       "      <td>15.8</td>\n",
       "      <td>8.1</td>\n",
       "      <td>67.8</td>\n",
       "      <td>15.840000</td>\n",
       "      <td>19.5</td>\n",
       "      <td>12.5</td>\n",
       "      <td>57.6</td>\n",
       "      <td>17.967742</td>\n",
       "      <td>22.2</td>\n",
       "      <td>13.7</td>\n",
       "    </tr>\n",
       "    <tr>\n",
       "      <th>2</th>\n",
       "      <td>CAMMARATA</td>\n",
       "      <td>13.73084</td>\n",
       "      <td>37.634871</td>\n",
       "      <td>0.013995</td>\n",
       "      <td>0.140016</td>\n",
       "      <td>0.013995</td>\n",
       "      <td>0.140016</td>\n",
       "      <td>0.490471</td>\n",
       "      <td>0.576410</td>\n",
       "      <td>0.183312</td>\n",
       "      <td>...</td>\n",
       "      <td>16.5</td>\n",
       "      <td>4.9</td>\n",
       "      <td>55.8</td>\n",
       "      <td>13.096667</td>\n",
       "      <td>18.0</td>\n",
       "      <td>7.6</td>\n",
       "      <td>29.2</td>\n",
       "      <td>16.461290</td>\n",
       "      <td>21.2</td>\n",
       "      <td>12.5</td>\n",
       "    </tr>\n",
       "  </tbody>\n",
       "</table>\n",
       "<p>3 rows × 39 columns</p>\n",
       "</div>"
      ],
      "text/plain": [
       "    Location  coordinate x  coordinate y  NDVI_DEC_2013  EVI_DEC_2013  \\\n",
       "0  AGUGLIANO      13.36300     43.545000       0.043876      0.273331   \n",
       "1   ARGELATO      11.34445     44.650532       0.493778      0.546566   \n",
       "2  CAMMARATA      13.73084     37.634871       0.013995      0.140016   \n",
       "\n",
       "   NDVI_JAN_2014  EVI_JAN_2014  NDVI_FEB_2014  EVI_FEB_2014  NDVI_MAR_2014  \\\n",
       "0       0.043876      0.273331       0.257505      0.288275       0.047190   \n",
       "1       0.574462      0.623811            NaN           NaN       0.655395   \n",
       "2       0.013995      0.140016       0.490471      0.576410       0.183312   \n",
       "\n",
       "   ...  MaxT_MAR_2014  MinT_MAR_2014  TMP_APR_2014  AMT_APR_2014  \\\n",
       "0  ...           16.4            6.9          55.0     13.533333   \n",
       "1  ...           15.8            8.1          67.8     15.840000   \n",
       "2  ...           16.5            4.9          55.8     13.096667   \n",
       "\n",
       "   MaxT_APR_2014  MinT_APR_2014  TMP_MAY_2014  AMT_MAY_2014  MaxT_MAY_2014  \\\n",
       "0           16.5           10.1          57.3     16.519355           21.5   \n",
       "1           19.5           12.5          57.6     17.967742           22.2   \n",
       "2           18.0            7.6          29.2     16.461290           21.2   \n",
       "\n",
       "   MinT_MAY_2014  \n",
       "0           11.7  \n",
       "1           13.7  \n",
       "2           12.5  \n",
       "\n",
       "[3 rows x 39 columns]"
      ]
     },
     "execution_count": 161,
     "metadata": {},
     "output_type": "execute_result"
    }
   ],
   "source": [
    "# Merge dataframes together\n",
    "merged_df = pd.merge(result_df, rt_df, on=['Location'], how='outer')\n",
    "\n",
    "# Results\n",
    "merged_df.head(3)"
   ]
  },
  {
   "cell_type": "code",
   "execution_count": 162,
   "id": "5222db4f",
   "metadata": {
    "scrolled": false
   },
   "outputs": [
    {
     "data": {
      "text/html": [
       "<div>\n",
       "<style scoped>\n",
       "    .dataframe tbody tr th:only-of-type {\n",
       "        vertical-align: middle;\n",
       "    }\n",
       "\n",
       "    .dataframe tbody tr th {\n",
       "        vertical-align: top;\n",
       "    }\n",
       "\n",
       "    .dataframe thead th {\n",
       "        text-align: right;\n",
       "    }\n",
       "</style>\n",
       "<table border=\"1\" class=\"dataframe\">\n",
       "  <thead>\n",
       "    <tr style=\"text-align: right;\">\n",
       "      <th></th>\n",
       "      <th>Location</th>\n",
       "      <th>coordinate x</th>\n",
       "      <th>coordinate y</th>\n",
       "      <th>NDVI_DEC_2013</th>\n",
       "      <th>EVI_DEC_2013</th>\n",
       "      <th>NDVI_JAN_2014</th>\n",
       "      <th>EVI_JAN_2014</th>\n",
       "      <th>NDVI_FEB_2014</th>\n",
       "      <th>EVI_FEB_2014</th>\n",
       "      <th>NDVI_MAR_2014</th>\n",
       "      <th>...</th>\n",
       "      <th>MaxT_MAR_2014</th>\n",
       "      <th>MinT_MAR_2014</th>\n",
       "      <th>TMP_APR_2014</th>\n",
       "      <th>AMT_APR_2014</th>\n",
       "      <th>MaxT_APR_2014</th>\n",
       "      <th>MinT_APR_2014</th>\n",
       "      <th>TMP_MAY_2014</th>\n",
       "      <th>AMT_MAY_2014</th>\n",
       "      <th>MaxT_MAY_2014</th>\n",
       "      <th>MinT_MAY_2014</th>\n",
       "    </tr>\n",
       "  </thead>\n",
       "  <tbody>\n",
       "    <tr>\n",
       "      <th>0</th>\n",
       "      <td>AGUGLIANO</td>\n",
       "      <td>13.36300</td>\n",
       "      <td>43.545000</td>\n",
       "      <td>0.043876</td>\n",
       "      <td>0.273331</td>\n",
       "      <td>0.043876</td>\n",
       "      <td>0.273331</td>\n",
       "      <td>0.257505</td>\n",
       "      <td>0.288275</td>\n",
       "      <td>0.047190</td>\n",
       "      <td>...</td>\n",
       "      <td>16.4</td>\n",
       "      <td>6.9</td>\n",
       "      <td>55.0</td>\n",
       "      <td>13.533333</td>\n",
       "      <td>16.5</td>\n",
       "      <td>10.1</td>\n",
       "      <td>57.3</td>\n",
       "      <td>16.519355</td>\n",
       "      <td>21.5</td>\n",
       "      <td>11.7</td>\n",
       "    </tr>\n",
       "    <tr>\n",
       "      <th>1</th>\n",
       "      <td>ARGELATO</td>\n",
       "      <td>11.34445</td>\n",
       "      <td>44.650532</td>\n",
       "      <td>0.493778</td>\n",
       "      <td>0.546566</td>\n",
       "      <td>0.574462</td>\n",
       "      <td>0.623811</td>\n",
       "      <td>NaN</td>\n",
       "      <td>NaN</td>\n",
       "      <td>0.655395</td>\n",
       "      <td>...</td>\n",
       "      <td>15.8</td>\n",
       "      <td>8.1</td>\n",
       "      <td>67.8</td>\n",
       "      <td>15.840000</td>\n",
       "      <td>19.5</td>\n",
       "      <td>12.5</td>\n",
       "      <td>57.6</td>\n",
       "      <td>17.967742</td>\n",
       "      <td>22.2</td>\n",
       "      <td>13.7</td>\n",
       "    </tr>\n",
       "    <tr>\n",
       "      <th>2</th>\n",
       "      <td>CAMMARATA</td>\n",
       "      <td>13.73084</td>\n",
       "      <td>37.634871</td>\n",
       "      <td>0.013995</td>\n",
       "      <td>0.140016</td>\n",
       "      <td>0.013995</td>\n",
       "      <td>0.140016</td>\n",
       "      <td>0.490471</td>\n",
       "      <td>0.576410</td>\n",
       "      <td>0.183312</td>\n",
       "      <td>...</td>\n",
       "      <td>16.5</td>\n",
       "      <td>4.9</td>\n",
       "      <td>55.8</td>\n",
       "      <td>13.096667</td>\n",
       "      <td>18.0</td>\n",
       "      <td>7.6</td>\n",
       "      <td>29.2</td>\n",
       "      <td>16.461290</td>\n",
       "      <td>21.2</td>\n",
       "      <td>12.5</td>\n",
       "    </tr>\n",
       "  </tbody>\n",
       "</table>\n",
       "<p>3 rows × 39 columns</p>\n",
       "</div>"
      ],
      "text/plain": [
       "    Location  coordinate x  coordinate y  NDVI_DEC_2013  EVI_DEC_2013  \\\n",
       "0  AGUGLIANO      13.36300     43.545000       0.043876      0.273331   \n",
       "1   ARGELATO      11.34445     44.650532       0.493778      0.546566   \n",
       "2  CAMMARATA      13.73084     37.634871       0.013995      0.140016   \n",
       "\n",
       "   NDVI_JAN_2014  EVI_JAN_2014  NDVI_FEB_2014  EVI_FEB_2014  NDVI_MAR_2014  \\\n",
       "0       0.043876      0.273331       0.257505      0.288275       0.047190   \n",
       "1       0.574462      0.623811            NaN           NaN       0.655395   \n",
       "2       0.013995      0.140016       0.490471      0.576410       0.183312   \n",
       "\n",
       "   ...  MaxT_MAR_2014  MinT_MAR_2014  TMP_APR_2014  AMT_APR_2014  \\\n",
       "0  ...           16.4            6.9          55.0     13.533333   \n",
       "1  ...           15.8            8.1          67.8     15.840000   \n",
       "2  ...           16.5            4.9          55.8     13.096667   \n",
       "\n",
       "   MaxT_APR_2014  MinT_APR_2014  TMP_MAY_2014  AMT_MAY_2014  MaxT_MAY_2014  \\\n",
       "0           16.5           10.1          57.3     16.519355           21.5   \n",
       "1           19.5           12.5          57.6     17.967742           22.2   \n",
       "2           18.0            7.6          29.2     16.461290           21.2   \n",
       "\n",
       "   MinT_MAY_2014  \n",
       "0           11.7  \n",
       "1           13.7  \n",
       "2           12.5  \n",
       "\n",
       "[3 rows x 39 columns]"
      ]
     },
     "execution_count": 162,
     "metadata": {},
     "output_type": "execute_result"
    }
   ],
   "source": [
    "merged_df = merged_df.rename(columns={\n",
    "    'coordinate x_x': 'coordinate x',\n",
    "    'coordinate y_x': 'coordinate y',\n",
    "    'Location ': 'Location'\n",
    "})\n",
    "\n",
    "df = merged_df\n",
    "\n",
    "df.head(3)"
   ]
  },
  {
   "cell_type": "code",
   "execution_count": 163,
   "id": "ab02315d",
   "metadata": {
    "scrolled": false
   },
   "outputs": [
    {
     "data": {
      "text/html": [
       "<div>\n",
       "<style scoped>\n",
       "    .dataframe tbody tr th:only-of-type {\n",
       "        vertical-align: middle;\n",
       "    }\n",
       "\n",
       "    .dataframe tbody tr th {\n",
       "        vertical-align: top;\n",
       "    }\n",
       "\n",
       "    .dataframe thead th {\n",
       "        text-align: right;\n",
       "    }\n",
       "</style>\n",
       "<table border=\"1\" class=\"dataframe\">\n",
       "  <thead>\n",
       "    <tr style=\"text-align: right;\">\n",
       "      <th></th>\n",
       "      <th>Specie</th>\n",
       "      <th>Year</th>\n",
       "      <th>Areal</th>\n",
       "      <th>Region</th>\n",
       "      <th>District</th>\n",
       "      <th>Location</th>\n",
       "      <th>Coordinate x</th>\n",
       "      <th>Coordinate y</th>\n",
       "      <th>MARS ID</th>\n",
       "      <th>Variety</th>\n",
       "      <th>...</th>\n",
       "      <th>N uptake</th>\n",
       "      <th>Prot_PCss</th>\n",
       "      <th>Bianconati_PC</th>\n",
       "      <th>Stremenziti_PC</th>\n",
       "      <th>Spigatda1Marzo_gg</th>\n",
       "      <th>Altezzapianta_cm</th>\n",
       "      <th>Allettamentoa mat_09</th>\n",
       "      <th>Rugginebruna_09</th>\n",
       "      <th>Oidio_09</th>\n",
       "      <th>Septoria_09</th>\n",
       "    </tr>\n",
       "  </thead>\n",
       "  <tbody>\n",
       "    <tr>\n",
       "      <th>0</th>\n",
       "      <td>Frumento_Duro</td>\n",
       "      <td>2013</td>\n",
       "      <td>2-Cost. Adriatica: Nord-Centro</td>\n",
       "      <td>MARCHE</td>\n",
       "      <td>AN</td>\n",
       "      <td>AGUGLIANO</td>\n",
       "      <td>43.545</td>\n",
       "      <td>13.363</td>\n",
       "      <td>69120</td>\n",
       "      <td>Achille</td>\n",
       "      <td>...</td>\n",
       "      <td>142.793478</td>\n",
       "      <td>12.5</td>\n",
       "      <td>59.90</td>\n",
       "      <td>2.10</td>\n",
       "      <td>62.0</td>\n",
       "      <td>92.67</td>\n",
       "      <td>NaN</td>\n",
       "      <td>NaN</td>\n",
       "      <td>NaN</td>\n",
       "      <td>1.67</td>\n",
       "    </tr>\n",
       "    <tr>\n",
       "      <th>1</th>\n",
       "      <td>Frumento_Duro</td>\n",
       "      <td>2013</td>\n",
       "      <td>2-Cost. Adriatica: Nord-Centro</td>\n",
       "      <td>MARCHE</td>\n",
       "      <td>AN</td>\n",
       "      <td>AGUGLIANO</td>\n",
       "      <td>43.545</td>\n",
       "      <td>13.363</td>\n",
       "      <td>69120</td>\n",
       "      <td>Anco Marzio</td>\n",
       "      <td>...</td>\n",
       "      <td>136.650522</td>\n",
       "      <td>13.5</td>\n",
       "      <td>43.00</td>\n",
       "      <td>1.57</td>\n",
       "      <td>58.0</td>\n",
       "      <td>86.67</td>\n",
       "      <td>NaN</td>\n",
       "      <td>NaN</td>\n",
       "      <td>NaN</td>\n",
       "      <td>1.00</td>\n",
       "    </tr>\n",
       "    <tr>\n",
       "      <th>2</th>\n",
       "      <td>Frumento_Duro</td>\n",
       "      <td>2013</td>\n",
       "      <td>2-Cost. Adriatica: Nord-Centro</td>\n",
       "      <td>MARCHE</td>\n",
       "      <td>AN</td>\n",
       "      <td>AGUGLIANO</td>\n",
       "      <td>43.545</td>\n",
       "      <td>13.363</td>\n",
       "      <td>69120</td>\n",
       "      <td>Athoris</td>\n",
       "      <td>...</td>\n",
       "      <td>124.508348</td>\n",
       "      <td>13.0</td>\n",
       "      <td>43.63</td>\n",
       "      <td>1.90</td>\n",
       "      <td>63.0</td>\n",
       "      <td>83.00</td>\n",
       "      <td>NaN</td>\n",
       "      <td>NaN</td>\n",
       "      <td>NaN</td>\n",
       "      <td>1.00</td>\n",
       "    </tr>\n",
       "  </tbody>\n",
       "</table>\n",
       "<p>3 rows × 25 columns</p>\n",
       "</div>"
      ],
      "text/plain": [
       "          Specie  Year                           Areal  Region District  \\\n",
       "0  Frumento_Duro  2013  2-Cost. Adriatica: Nord-Centro  MARCHE       AN   \n",
       "1  Frumento_Duro  2013  2-Cost. Adriatica: Nord-Centro  MARCHE       AN   \n",
       "2  Frumento_Duro  2013  2-Cost. Adriatica: Nord-Centro  MARCHE       AN   \n",
       "\n",
       "   Location   Coordinate x  Coordinate y  MARS ID       Variety  ...  \\\n",
       "0  AGUGLIANO        43.545        13.363    69120       Achille  ...   \n",
       "1  AGUGLIANO        43.545        13.363    69120  Anco Marzio   ...   \n",
       "2  AGUGLIANO        43.545        13.363    69120       Athoris  ...   \n",
       "\n",
       "     N uptake  Prot_PCss  Bianconati_PC  Stremenziti_PC  Spigatda1Marzo_gg  \\\n",
       "0  142.793478       12.5          59.90            2.10               62.0   \n",
       "1  136.650522       13.5          43.00            1.57               58.0   \n",
       "2  124.508348       13.0          43.63            1.90               63.0   \n",
       "\n",
       "   Altezzapianta_cm  Allettamentoa mat_09  Rugginebruna_09  Oidio_09  \\\n",
       "0             92.67                   NaN              NaN       NaN   \n",
       "1             86.67                   NaN              NaN       NaN   \n",
       "2             83.00                   NaN              NaN       NaN   \n",
       "\n",
       "   Septoria_09  \n",
       "0         1.67  \n",
       "1         1.00  \n",
       "2         1.00  \n",
       "\n",
       "[3 rows x 25 columns]"
      ]
     },
     "execution_count": 163,
     "metadata": {},
     "output_type": "execute_result"
    }
   ],
   "source": [
    "yield_df = pd.read_csv(r\"C:\\Users\\AdamMorgan\\OneDrive\\UCL\\Research Project\\Data\\Yield data\\yield data.csv\")\n",
    "yield_df.head(3)"
   ]
  },
  {
   "cell_type": "code",
   "execution_count": 164,
   "id": "0c28c081",
   "metadata": {},
   "outputs": [],
   "source": [
    "yield_df = yield_df.rename(columns={'Location ': 'Location'})"
   ]
  },
  {
   "cell_type": "code",
   "execution_count": 165,
   "id": "3cba94c8",
   "metadata": {
    "scrolled": true
   },
   "outputs": [
    {
     "data": {
      "text/html": [
       "<div>\n",
       "<style scoped>\n",
       "    .dataframe tbody tr th:only-of-type {\n",
       "        vertical-align: middle;\n",
       "    }\n",
       "\n",
       "    .dataframe tbody tr th {\n",
       "        vertical-align: top;\n",
       "    }\n",
       "\n",
       "    .dataframe thead th {\n",
       "        text-align: right;\n",
       "    }\n",
       "</style>\n",
       "<table border=\"1\" class=\"dataframe\">\n",
       "  <thead>\n",
       "    <tr style=\"text-align: right;\">\n",
       "      <th></th>\n",
       "      <th>Location</th>\n",
       "      <th>coordinate x</th>\n",
       "      <th>coordinate y</th>\n",
       "      <th>NDVI_DEC_2013</th>\n",
       "      <th>EVI_DEC_2013</th>\n",
       "      <th>NDVI_JAN_2014</th>\n",
       "      <th>EVI_JAN_2014</th>\n",
       "      <th>NDVI_FEB_2014</th>\n",
       "      <th>EVI_FEB_2014</th>\n",
       "      <th>NDVI_MAR_2014</th>\n",
       "      <th>...</th>\n",
       "      <th>N uptake</th>\n",
       "      <th>Prot_PCss</th>\n",
       "      <th>Bianconati_PC</th>\n",
       "      <th>Stremenziti_PC</th>\n",
       "      <th>Spigatda1Marzo_gg</th>\n",
       "      <th>Altezzapianta_cm</th>\n",
       "      <th>Allettamentoa mat_09</th>\n",
       "      <th>Rugginebruna_09</th>\n",
       "      <th>Oidio_09</th>\n",
       "      <th>Septoria_09</th>\n",
       "    </tr>\n",
       "  </thead>\n",
       "  <tbody>\n",
       "    <tr>\n",
       "      <th>0</th>\n",
       "      <td>AGUGLIANO</td>\n",
       "      <td>13.363</td>\n",
       "      <td>43.545</td>\n",
       "      <td>0.043876</td>\n",
       "      <td>0.273331</td>\n",
       "      <td>0.043876</td>\n",
       "      <td>0.273331</td>\n",
       "      <td>0.257505</td>\n",
       "      <td>0.288275</td>\n",
       "      <td>0.04719</td>\n",
       "      <td>...</td>\n",
       "      <td>142.793478</td>\n",
       "      <td>12.5</td>\n",
       "      <td>59.90</td>\n",
       "      <td>2.10</td>\n",
       "      <td>62.0</td>\n",
       "      <td>92.67</td>\n",
       "      <td>NaN</td>\n",
       "      <td>NaN</td>\n",
       "      <td>NaN</td>\n",
       "      <td>1.67</td>\n",
       "    </tr>\n",
       "    <tr>\n",
       "      <th>1</th>\n",
       "      <td>AGUGLIANO</td>\n",
       "      <td>13.363</td>\n",
       "      <td>43.545</td>\n",
       "      <td>0.043876</td>\n",
       "      <td>0.273331</td>\n",
       "      <td>0.043876</td>\n",
       "      <td>0.273331</td>\n",
       "      <td>0.257505</td>\n",
       "      <td>0.288275</td>\n",
       "      <td>0.04719</td>\n",
       "      <td>...</td>\n",
       "      <td>136.650522</td>\n",
       "      <td>13.5</td>\n",
       "      <td>43.00</td>\n",
       "      <td>1.57</td>\n",
       "      <td>58.0</td>\n",
       "      <td>86.67</td>\n",
       "      <td>NaN</td>\n",
       "      <td>NaN</td>\n",
       "      <td>NaN</td>\n",
       "      <td>1.00</td>\n",
       "    </tr>\n",
       "    <tr>\n",
       "      <th>2</th>\n",
       "      <td>AGUGLIANO</td>\n",
       "      <td>13.363</td>\n",
       "      <td>43.545</td>\n",
       "      <td>0.043876</td>\n",
       "      <td>0.273331</td>\n",
       "      <td>0.043876</td>\n",
       "      <td>0.273331</td>\n",
       "      <td>0.257505</td>\n",
       "      <td>0.288275</td>\n",
       "      <td>0.04719</td>\n",
       "      <td>...</td>\n",
       "      <td>124.508348</td>\n",
       "      <td>13.0</td>\n",
       "      <td>43.63</td>\n",
       "      <td>1.90</td>\n",
       "      <td>63.0</td>\n",
       "      <td>83.00</td>\n",
       "      <td>NaN</td>\n",
       "      <td>NaN</td>\n",
       "      <td>NaN</td>\n",
       "      <td>1.00</td>\n",
       "    </tr>\n",
       "  </tbody>\n",
       "</table>\n",
       "<p>3 rows × 63 columns</p>\n",
       "</div>"
      ],
      "text/plain": [
       "    Location  coordinate x  coordinate y  NDVI_DEC_2013  EVI_DEC_2013  \\\n",
       "0  AGUGLIANO        13.363        43.545       0.043876      0.273331   \n",
       "1  AGUGLIANO        13.363        43.545       0.043876      0.273331   \n",
       "2  AGUGLIANO        13.363        43.545       0.043876      0.273331   \n",
       "\n",
       "   NDVI_JAN_2014  EVI_JAN_2014  NDVI_FEB_2014  EVI_FEB_2014  NDVI_MAR_2014  \\\n",
       "0       0.043876      0.273331       0.257505      0.288275        0.04719   \n",
       "1       0.043876      0.273331       0.257505      0.288275        0.04719   \n",
       "2       0.043876      0.273331       0.257505      0.288275        0.04719   \n",
       "\n",
       "   ...    N uptake  Prot_PCss  Bianconati_PC  Stremenziti_PC  \\\n",
       "0  ...  142.793478       12.5          59.90            2.10   \n",
       "1  ...  136.650522       13.5          43.00            1.57   \n",
       "2  ...  124.508348       13.0          43.63            1.90   \n",
       "\n",
       "   Spigatda1Marzo_gg  Altezzapianta_cm  Allettamentoa mat_09  Rugginebruna_09  \\\n",
       "0               62.0             92.67                   NaN              NaN   \n",
       "1               58.0             86.67                   NaN              NaN   \n",
       "2               63.0             83.00                   NaN              NaN   \n",
       "\n",
       "   Oidio_09  Septoria_09  \n",
       "0       NaN         1.67  \n",
       "1       NaN         1.00  \n",
       "2       NaN         1.00  \n",
       "\n",
       "[3 rows x 63 columns]"
      ]
     },
     "execution_count": 165,
     "metadata": {},
     "output_type": "execute_result"
    }
   ],
   "source": [
    "merged_df = pd.merge(df, yield_df, on=['Location'], how='outer')\n",
    "merged_df.head(3)"
   ]
  },
  {
   "cell_type": "code",
   "execution_count": 166,
   "id": "790a3371",
   "metadata": {},
   "outputs": [],
   "source": [
    "df = merged_df[merged_df['Year'] == 2014]"
   ]
  },
  {
   "cell_type": "code",
   "execution_count": 167,
   "id": "2c19d859",
   "metadata": {
    "scrolled": true
   },
   "outputs": [
    {
     "data": {
      "text/html": [
       "<div>\n",
       "<style scoped>\n",
       "    .dataframe tbody tr th:only-of-type {\n",
       "        vertical-align: middle;\n",
       "    }\n",
       "\n",
       "    .dataframe tbody tr th {\n",
       "        vertical-align: top;\n",
       "    }\n",
       "\n",
       "    .dataframe thead th {\n",
       "        text-align: right;\n",
       "    }\n",
       "</style>\n",
       "<table border=\"1\" class=\"dataframe\">\n",
       "  <thead>\n",
       "    <tr style=\"text-align: right;\">\n",
       "      <th></th>\n",
       "      <th>Location</th>\n",
       "      <th>nitrogen_0-5cm_mean</th>\n",
       "      <th>nitrogen_100-200cm_mean</th>\n",
       "      <th>nitrogen_15-30cm_mean</th>\n",
       "      <th>nitrogen_30-60cm_mean</th>\n",
       "      <th>nitrogen_5-15cm_mean</th>\n",
       "      <th>nitrogen_60-100cm_mean</th>\n",
       "      <th>soc_0-5cm_mean</th>\n",
       "      <th>soc_100-200cm_mean</th>\n",
       "      <th>soc_15-30cm_mean</th>\n",
       "      <th>...</th>\n",
       "      <th>sand_15-30cm_mean</th>\n",
       "      <th>sand_30-60cm_mean</th>\n",
       "      <th>sand_5-15cm_mean</th>\n",
       "      <th>sand_60-100cm_mean</th>\n",
       "      <th>silt_0-5cm_mean</th>\n",
       "      <th>silt_100-200cm_mean</th>\n",
       "      <th>silt_15-30cm_mean</th>\n",
       "      <th>silt_30-60cm_mean</th>\n",
       "      <th>silt_5-15cm_mean</th>\n",
       "      <th>silt_60-100cm_mean</th>\n",
       "    </tr>\n",
       "  </thead>\n",
       "  <tbody>\n",
       "    <tr>\n",
       "      <th>0</th>\n",
       "      <td>AGUGLIANO</td>\n",
       "      <td>2654</td>\n",
       "      <td>849</td>\n",
       "      <td>1640</td>\n",
       "      <td>1642</td>\n",
       "      <td>1230</td>\n",
       "      <td>973</td>\n",
       "      <td>459</td>\n",
       "      <td>71</td>\n",
       "      <td>199</td>\n",
       "      <td>...</td>\n",
       "      <td>103</td>\n",
       "      <td>115</td>\n",
       "      <td>89</td>\n",
       "      <td>121</td>\n",
       "      <td>470</td>\n",
       "      <td>502</td>\n",
       "      <td>477</td>\n",
       "      <td>491</td>\n",
       "      <td>478</td>\n",
       "      <td>487</td>\n",
       "    </tr>\n",
       "    <tr>\n",
       "      <th>1</th>\n",
       "      <td>ARGELATO</td>\n",
       "      <td>4837</td>\n",
       "      <td>1095</td>\n",
       "      <td>1565</td>\n",
       "      <td>1368</td>\n",
       "      <td>1600</td>\n",
       "      <td>1133</td>\n",
       "      <td>396</td>\n",
       "      <td>56</td>\n",
       "      <td>148</td>\n",
       "      <td>...</td>\n",
       "      <td>69</td>\n",
       "      <td>85</td>\n",
       "      <td>61</td>\n",
       "      <td>92</td>\n",
       "      <td>499</td>\n",
       "      <td>517</td>\n",
       "      <td>527</td>\n",
       "      <td>533</td>\n",
       "      <td>484</td>\n",
       "      <td>524</td>\n",
       "    </tr>\n",
       "    <tr>\n",
       "      <th>2</th>\n",
       "      <td>CAMMARATA</td>\n",
       "      <td>2502</td>\n",
       "      <td>912</td>\n",
       "      <td>1449</td>\n",
       "      <td>1172</td>\n",
       "      <td>1728</td>\n",
       "      <td>871</td>\n",
       "      <td>447</td>\n",
       "      <td>51</td>\n",
       "      <td>164</td>\n",
       "      <td>...</td>\n",
       "      <td>294</td>\n",
       "      <td>312</td>\n",
       "      <td>234</td>\n",
       "      <td>314</td>\n",
       "      <td>450</td>\n",
       "      <td>396</td>\n",
       "      <td>398</td>\n",
       "      <td>403</td>\n",
       "      <td>427</td>\n",
       "      <td>404</td>\n",
       "    </tr>\n",
       "  </tbody>\n",
       "</table>\n",
       "<p>3 rows × 61 columns</p>\n",
       "</div>"
      ],
      "text/plain": [
       "    Location  nitrogen_0-5cm_mean  nitrogen_100-200cm_mean  \\\n",
       "0  AGUGLIANO                 2654                      849   \n",
       "1   ARGELATO                 4837                     1095   \n",
       "2  CAMMARATA                 2502                      912   \n",
       "\n",
       "   nitrogen_15-30cm_mean  nitrogen_30-60cm_mean  nitrogen_5-15cm_mean  \\\n",
       "0                   1640                   1642                  1230   \n",
       "1                   1565                   1368                  1600   \n",
       "2                   1449                   1172                  1728   \n",
       "\n",
       "   nitrogen_60-100cm_mean  soc_0-5cm_mean  soc_100-200cm_mean  \\\n",
       "0                     973             459                  71   \n",
       "1                    1133             396                  56   \n",
       "2                     871             447                  51   \n",
       "\n",
       "   soc_15-30cm_mean  ...  sand_15-30cm_mean  sand_30-60cm_mean  \\\n",
       "0               199  ...                103                115   \n",
       "1               148  ...                 69                 85   \n",
       "2               164  ...                294                312   \n",
       "\n",
       "   sand_5-15cm_mean  sand_60-100cm_mean  silt_0-5cm_mean  silt_100-200cm_mean  \\\n",
       "0                89                 121              470                  502   \n",
       "1                61                  92              499                  517   \n",
       "2               234                 314              450                  396   \n",
       "\n",
       "   silt_15-30cm_mean  silt_30-60cm_mean  silt_5-15cm_mean  silt_60-100cm_mean  \n",
       "0                477                491               478                 487  \n",
       "1                527                533               484                 524  \n",
       "2                398                403               427                 404  \n",
       "\n",
       "[3 rows x 61 columns]"
      ]
     },
     "execution_count": 167,
     "metadata": {},
     "output_type": "execute_result"
    }
   ],
   "source": [
    "soil_df = pd.read_csv(r\"C:\\Users\\AdamMorgan\\OneDrive\\UCL\\Research Project\\Code and results\\Data extraction and preprocessing\\soil_data.csv\")\n",
    "soil_df.head(3)"
   ]
  },
  {
   "cell_type": "code",
   "execution_count": 168,
   "id": "f640aa57",
   "metadata": {},
   "outputs": [
    {
     "data": {
      "text/html": [
       "<div>\n",
       "<style scoped>\n",
       "    .dataframe tbody tr th:only-of-type {\n",
       "        vertical-align: middle;\n",
       "    }\n",
       "\n",
       "    .dataframe tbody tr th {\n",
       "        vertical-align: top;\n",
       "    }\n",
       "\n",
       "    .dataframe thead th {\n",
       "        text-align: right;\n",
       "    }\n",
       "</style>\n",
       "<table border=\"1\" class=\"dataframe\">\n",
       "  <thead>\n",
       "    <tr style=\"text-align: right;\">\n",
       "      <th></th>\n",
       "      <th>Location</th>\n",
       "      <th>coordinate x</th>\n",
       "      <th>coordinate y</th>\n",
       "      <th>NDVI_DEC_2013</th>\n",
       "      <th>EVI_DEC_2013</th>\n",
       "      <th>NDVI_JAN_2014</th>\n",
       "      <th>EVI_JAN_2014</th>\n",
       "      <th>NDVI_FEB_2014</th>\n",
       "      <th>EVI_FEB_2014</th>\n",
       "      <th>NDVI_MAR_2014</th>\n",
       "      <th>...</th>\n",
       "      <th>sand_15-30cm_mean</th>\n",
       "      <th>sand_30-60cm_mean</th>\n",
       "      <th>sand_5-15cm_mean</th>\n",
       "      <th>sand_60-100cm_mean</th>\n",
       "      <th>silt_0-5cm_mean</th>\n",
       "      <th>silt_100-200cm_mean</th>\n",
       "      <th>silt_15-30cm_mean</th>\n",
       "      <th>silt_30-60cm_mean</th>\n",
       "      <th>silt_5-15cm_mean</th>\n",
       "      <th>silt_60-100cm_mean</th>\n",
       "    </tr>\n",
       "  </thead>\n",
       "  <tbody>\n",
       "    <tr>\n",
       "      <th>0</th>\n",
       "      <td>AGUGLIANO</td>\n",
       "      <td>13.363</td>\n",
       "      <td>43.545</td>\n",
       "      <td>0.043876</td>\n",
       "      <td>0.273331</td>\n",
       "      <td>0.043876</td>\n",
       "      <td>0.273331</td>\n",
       "      <td>0.257505</td>\n",
       "      <td>0.288275</td>\n",
       "      <td>0.04719</td>\n",
       "      <td>...</td>\n",
       "      <td>103</td>\n",
       "      <td>115</td>\n",
       "      <td>89</td>\n",
       "      <td>121</td>\n",
       "      <td>470</td>\n",
       "      <td>502</td>\n",
       "      <td>477</td>\n",
       "      <td>491</td>\n",
       "      <td>478</td>\n",
       "      <td>487</td>\n",
       "    </tr>\n",
       "    <tr>\n",
       "      <th>1</th>\n",
       "      <td>AGUGLIANO</td>\n",
       "      <td>13.363</td>\n",
       "      <td>43.545</td>\n",
       "      <td>0.043876</td>\n",
       "      <td>0.273331</td>\n",
       "      <td>0.043876</td>\n",
       "      <td>0.273331</td>\n",
       "      <td>0.257505</td>\n",
       "      <td>0.288275</td>\n",
       "      <td>0.04719</td>\n",
       "      <td>...</td>\n",
       "      <td>103</td>\n",
       "      <td>115</td>\n",
       "      <td>89</td>\n",
       "      <td>121</td>\n",
       "      <td>470</td>\n",
       "      <td>502</td>\n",
       "      <td>477</td>\n",
       "      <td>491</td>\n",
       "      <td>478</td>\n",
       "      <td>487</td>\n",
       "    </tr>\n",
       "    <tr>\n",
       "      <th>2</th>\n",
       "      <td>AGUGLIANO</td>\n",
       "      <td>13.363</td>\n",
       "      <td>43.545</td>\n",
       "      <td>0.043876</td>\n",
       "      <td>0.273331</td>\n",
       "      <td>0.043876</td>\n",
       "      <td>0.273331</td>\n",
       "      <td>0.257505</td>\n",
       "      <td>0.288275</td>\n",
       "      <td>0.04719</td>\n",
       "      <td>...</td>\n",
       "      <td>103</td>\n",
       "      <td>115</td>\n",
       "      <td>89</td>\n",
       "      <td>121</td>\n",
       "      <td>470</td>\n",
       "      <td>502</td>\n",
       "      <td>477</td>\n",
       "      <td>491</td>\n",
       "      <td>478</td>\n",
       "      <td>487</td>\n",
       "    </tr>\n",
       "  </tbody>\n",
       "</table>\n",
       "<p>3 rows × 123 columns</p>\n",
       "</div>"
      ],
      "text/plain": [
       "    Location  coordinate x  coordinate y  NDVI_DEC_2013  EVI_DEC_2013  \\\n",
       "0  AGUGLIANO        13.363        43.545       0.043876      0.273331   \n",
       "1  AGUGLIANO        13.363        43.545       0.043876      0.273331   \n",
       "2  AGUGLIANO        13.363        43.545       0.043876      0.273331   \n",
       "\n",
       "   NDVI_JAN_2014  EVI_JAN_2014  NDVI_FEB_2014  EVI_FEB_2014  NDVI_MAR_2014  \\\n",
       "0       0.043876      0.273331       0.257505      0.288275        0.04719   \n",
       "1       0.043876      0.273331       0.257505      0.288275        0.04719   \n",
       "2       0.043876      0.273331       0.257505      0.288275        0.04719   \n",
       "\n",
       "   ...  sand_15-30cm_mean  sand_30-60cm_mean  sand_5-15cm_mean  \\\n",
       "0  ...                103                115                89   \n",
       "1  ...                103                115                89   \n",
       "2  ...                103                115                89   \n",
       "\n",
       "   sand_60-100cm_mean  silt_0-5cm_mean  silt_100-200cm_mean  \\\n",
       "0                 121              470                  502   \n",
       "1                 121              470                  502   \n",
       "2                 121              470                  502   \n",
       "\n",
       "   silt_15-30cm_mean  silt_30-60cm_mean  silt_5-15cm_mean  silt_60-100cm_mean  \n",
       "0                477                491               478                 487  \n",
       "1                477                491               478                 487  \n",
       "2                477                491               478                 487  \n",
       "\n",
       "[3 rows x 123 columns]"
      ]
     },
     "execution_count": 168,
     "metadata": {},
     "output_type": "execute_result"
    }
   ],
   "source": [
    "df = pd.merge(df, soil_df, on=['Location'], how='outer')\n",
    "df.head(3)"
   ]
  },
  {
   "cell_type": "code",
   "execution_count": 169,
   "id": "007fc777",
   "metadata": {},
   "outputs": [],
   "source": [
    "filtered_df = df.drop(columns=['Coordinate y', 'Coordinate x', 'Specie'])\n",
    "\n",
    "# Dropping because Yanming\n",
    "filtered_df = filtered_df.drop(columns=['Indice resa'])"
   ]
  },
  {
   "cell_type": "code",
   "execution_count": 170,
   "id": "3089c138",
   "metadata": {
    "scrolled": true
   },
   "outputs": [
    {
     "data": {
      "text/html": [
       "<div>\n",
       "<style scoped>\n",
       "    .dataframe tbody tr th:only-of-type {\n",
       "        vertical-align: middle;\n",
       "    }\n",
       "\n",
       "    .dataframe tbody tr th {\n",
       "        vertical-align: top;\n",
       "    }\n",
       "\n",
       "    .dataframe thead th {\n",
       "        text-align: right;\n",
       "    }\n",
       "</style>\n",
       "<table border=\"1\" class=\"dataframe\">\n",
       "  <thead>\n",
       "    <tr style=\"text-align: right;\">\n",
       "      <th></th>\n",
       "      <th>Location</th>\n",
       "      <th>coordinate x</th>\n",
       "      <th>coordinate y</th>\n",
       "      <th>NDVI_DEC_2013</th>\n",
       "      <th>EVI_DEC_2013</th>\n",
       "      <th>NDVI_JAN_2014</th>\n",
       "      <th>EVI_JAN_2014</th>\n",
       "      <th>NDVI_FEB_2014</th>\n",
       "      <th>EVI_FEB_2014</th>\n",
       "      <th>NDVI_MAR_2014</th>\n",
       "      <th>...</th>\n",
       "      <th>sand_15-30cm_mean</th>\n",
       "      <th>sand_30-60cm_mean</th>\n",
       "      <th>sand_5-15cm_mean</th>\n",
       "      <th>sand_60-100cm_mean</th>\n",
       "      <th>silt_0-5cm_mean</th>\n",
       "      <th>silt_100-200cm_mean</th>\n",
       "      <th>silt_15-30cm_mean</th>\n",
       "      <th>silt_30-60cm_mean</th>\n",
       "      <th>silt_5-15cm_mean</th>\n",
       "      <th>silt_60-100cm_mean</th>\n",
       "    </tr>\n",
       "  </thead>\n",
       "  <tbody>\n",
       "    <tr>\n",
       "      <th>0</th>\n",
       "      <td>AGUGLIANO</td>\n",
       "      <td>13.363</td>\n",
       "      <td>43.545</td>\n",
       "      <td>0.043876</td>\n",
       "      <td>0.273331</td>\n",
       "      <td>0.043876</td>\n",
       "      <td>0.273331</td>\n",
       "      <td>0.257505</td>\n",
       "      <td>0.288275</td>\n",
       "      <td>0.04719</td>\n",
       "      <td>...</td>\n",
       "      <td>103</td>\n",
       "      <td>115</td>\n",
       "      <td>89</td>\n",
       "      <td>121</td>\n",
       "      <td>470</td>\n",
       "      <td>502</td>\n",
       "      <td>477</td>\n",
       "      <td>491</td>\n",
       "      <td>478</td>\n",
       "      <td>487</td>\n",
       "    </tr>\n",
       "    <tr>\n",
       "      <th>1</th>\n",
       "      <td>AGUGLIANO</td>\n",
       "      <td>13.363</td>\n",
       "      <td>43.545</td>\n",
       "      <td>0.043876</td>\n",
       "      <td>0.273331</td>\n",
       "      <td>0.043876</td>\n",
       "      <td>0.273331</td>\n",
       "      <td>0.257505</td>\n",
       "      <td>0.288275</td>\n",
       "      <td>0.04719</td>\n",
       "      <td>...</td>\n",
       "      <td>103</td>\n",
       "      <td>115</td>\n",
       "      <td>89</td>\n",
       "      <td>121</td>\n",
       "      <td>470</td>\n",
       "      <td>502</td>\n",
       "      <td>477</td>\n",
       "      <td>491</td>\n",
       "      <td>478</td>\n",
       "      <td>487</td>\n",
       "    </tr>\n",
       "    <tr>\n",
       "      <th>2</th>\n",
       "      <td>AGUGLIANO</td>\n",
       "      <td>13.363</td>\n",
       "      <td>43.545</td>\n",
       "      <td>0.043876</td>\n",
       "      <td>0.273331</td>\n",
       "      <td>0.043876</td>\n",
       "      <td>0.273331</td>\n",
       "      <td>0.257505</td>\n",
       "      <td>0.288275</td>\n",
       "      <td>0.04719</td>\n",
       "      <td>...</td>\n",
       "      <td>103</td>\n",
       "      <td>115</td>\n",
       "      <td>89</td>\n",
       "      <td>121</td>\n",
       "      <td>470</td>\n",
       "      <td>502</td>\n",
       "      <td>477</td>\n",
       "      <td>491</td>\n",
       "      <td>478</td>\n",
       "      <td>487</td>\n",
       "    </tr>\n",
       "  </tbody>\n",
       "</table>\n",
       "<p>3 rows × 119 columns</p>\n",
       "</div>"
      ],
      "text/plain": [
       "    Location  coordinate x  coordinate y  NDVI_DEC_2013  EVI_DEC_2013  \\\n",
       "0  AGUGLIANO        13.363        43.545       0.043876      0.273331   \n",
       "1  AGUGLIANO        13.363        43.545       0.043876      0.273331   \n",
       "2  AGUGLIANO        13.363        43.545       0.043876      0.273331   \n",
       "\n",
       "   NDVI_JAN_2014  EVI_JAN_2014  NDVI_FEB_2014  EVI_FEB_2014  NDVI_MAR_2014  \\\n",
       "0       0.043876      0.273331       0.257505      0.288275        0.04719   \n",
       "1       0.043876      0.273331       0.257505      0.288275        0.04719   \n",
       "2       0.043876      0.273331       0.257505      0.288275        0.04719   \n",
       "\n",
       "   ...  sand_15-30cm_mean  sand_30-60cm_mean  sand_5-15cm_mean  \\\n",
       "0  ...                103                115                89   \n",
       "1  ...                103                115                89   \n",
       "2  ...                103                115                89   \n",
       "\n",
       "   sand_60-100cm_mean  silt_0-5cm_mean  silt_100-200cm_mean  \\\n",
       "0                 121              470                  502   \n",
       "1                 121              470                  502   \n",
       "2                 121              470                  502   \n",
       "\n",
       "   silt_15-30cm_mean  silt_30-60cm_mean  silt_5-15cm_mean  silt_60-100cm_mean  \n",
       "0                477                491               478                 487  \n",
       "1                477                491               478                 487  \n",
       "2                477                491               478                 487  \n",
       "\n",
       "[3 rows x 119 columns]"
      ]
     },
     "execution_count": 170,
     "metadata": {},
     "output_type": "execute_result"
    }
   ],
   "source": [
    "filtered_df = filtered_df.rename(columns={\n",
    "    'Year': 'year',\n",
    "    'Peso1000semi': 'weight of 1000 seeds',\n",
    "    'Prot_PCss': 'Prot_PC_bio',\n",
    "})\n",
    "\n",
    "filtered_df.head(3)"
   ]
  },
  {
   "cell_type": "code",
   "execution_count": 171,
   "id": "32214416",
   "metadata": {
    "scrolled": true
   },
   "outputs": [],
   "source": [
    "# Get column indices\n",
    "column_indices = {column_name: index for index, column_name in enumerate(filtered_df.columns)}\n"
   ]
  },
  {
   "cell_type": "code",
   "execution_count": 172,
   "id": "95b6dae1",
   "metadata": {},
   "outputs": [],
   "source": [
    "cols = filtered_df.columns.tolist()\n",
    "subset = [cols[31], cols[27], cols[32], cols[28], cols[29], cols[30]]  # Columns 'B' and 'C'\n",
    "\n",
    "# Remove 'B' and 'C' from their original positions\n",
    "for col in subset:\n",
    "    cols.remove(col)\n",
    "\n",
    "# Insert 'B' and 'C' after position 3\n",
    "position_to_insert = 0\n",
    "for i, col in enumerate(subset):\n",
    "    cols.insert(position_to_insert + i, col)\n",
    "\n",
    "df = filtered_df[cols]"
   ]
  },
  {
   "cell_type": "markdown",
   "id": "d41b9d9e",
   "metadata": {},
   "source": [
    "## Creating datasets for the model"
   ]
  },
  {
   "cell_type": "code",
   "execution_count": 173,
   "id": "44df5ff2",
   "metadata": {},
   "outputs": [],
   "source": [
    "# Get column names\n",
    "column_names = df.columns.tolist()\n",
    "# column_names"
   ]
  },
  {
   "cell_type": "markdown",
   "id": "c1df2c49",
   "metadata": {},
   "source": [
    "### Prod_13pcUM - grain yield should be included tbh - was not included higher up - change this"
   ]
  },
  {
   "cell_type": "code",
   "execution_count": 174,
   "id": "94a46cfe",
   "metadata": {},
   "outputs": [],
   "source": [
    "predict_cols = ['Prod_13pcUM','N uptake','Prot_PC_bio', 'Variety', 'year']\n",
    "\n",
    "location_cols = ['Areal','Region','District','Location','coordinate x','coordinate y']\n",
    "\n",
    "# VI\n",
    "NDVI_2014_cols = ['NDVI_DEC_2013','NDVI_JAN_2014','NDVI_FEB_2014','NDVI_MAR_2014','NDVI_APR_2014','NDVI_MAY_2014']\n",
    "EVI_2014_cols = ['EVI_DEC_2013','EVI_JAN_2014','EVI_FEB_2014','EVI_MAR_2014','EVI_APR_2014','EVI_MAY_2014']\n",
    "VI_2014 = NDVI_2014_cols + EVI_2014_cols\n",
    "\n",
    "# Temp\n",
    "MaxT_2014_cols = ['MaxT_DEC_2013','MaxT_JAN_2014','MaxT_FEB_2014','MaxT_MAR_2014','MaxT_APR_2014','MaxT_MAY_2014']\n",
    "MinT_2014_cols = ['MinT_DEC_2013','MinT_JAN_2014','MinT_FEB_2014','MinT_MAR_2014','MinT_APR_2014','MinT_MAY_2014']\n",
    "TMP_2014_cols = ['TMP_DEC_2013','TMP_JAN_2014','TMP_FEB_2014','TMP_MAR_2014','TMP_APR_2014','TMP_MAY_2014']\n",
    "AMT_2014_cols = ['AMT_DEC_2013','AMT_JAN_2014','AMT_FEB_2014','AMT_MAR_2014','AMT_APR_2014','AMT_MAY_2014']\n",
    "TEMP_2014 = TMP_2014_cols + AMT_2014_cols + MaxT_2014_cols + MinT_2014_cols\n",
    "\n",
    "\n",
    "\n",
    "soil_cols = ['nitrogen_0-5cm_mean','nitrogen_5-15cm_mean','nitrogen_15-30cm_mean','nitrogen_30-60cm_mean','nitrogen_60-100cm_mean','nitrogen_100-200cm_mean',\n",
    "              'soc_0-5cm_mean','soc_5-15cm_mean','soc_15-30cm_mean','soc_30-60cm_mean','soc_60-100cm_mean','soc_100-200cm_mean',\n",
    "              'bdod_0-5cm_mean','bdod_5-15cm_mean','bdod_15-30cm_mean','bdod_30-60cm_mean','bdod_60-100cm_mean','bdod_100-200cm_mean',\n",
    "              'cec_0-5cm_mean','cec_5-15cm_mean','cec_15-30cm_mean','cec_30-60cm_mean','cec_60-100cm_mean','cec_100-200cm_mean',\n",
    "              'cfvo_0-5cm_mean','cfvo_5-15cm_mean','cfvo_15-30cm_mean','cfvo_30-60cm_mean','cfvo_60-100cm_mean','cfvo_100-200cm_mean',\n",
    "              'clay_0-5cm_mean','clay_5-15cm_mean','clay_15-30cm_mean','clay_30-60cm_mean','clay_60-100cm_mean','clay_100-200cm_mean',\n",
    "              'ocd_0-5cm_mean','ocd_5-15cm_mean','ocd_15-30cm_mean','ocd_30-60cm_mean','ocd_60-100cm_mean','ocd_100-200cm_mean',\n",
    "              'phh2o_0-5cm_mean','phh2o_5-15cm_mean','phh2o_15-30cm_mean','phh2o_30-60cm_mean','phh2o_60-100cm_mean','phh2o_100-200cm_mean',\n",
    "              'sand_0-5cm_mean','sand_5-15cm_mean','sand_15-30cm_mean','sand_30-60cm_mean','sand_60-100cm_mean','sand_100-200cm_mean',\n",
    "              'silt_0-5cm_mean','silt_5-15cm_mean','silt_15-30cm_mean','silt_30-60cm_mean','silt_60-100cm_mean','silt_100-200cm_mean']                 "
   ]
  },
  {
   "cell_type": "code",
   "execution_count": 175,
   "id": "9084fce6",
   "metadata": {},
   "outputs": [],
   "source": [
    "# Model 1\n",
    "columns_to_keep = predict_cols + location_cols + TEMP_2014 + soil_cols \n",
    "model_1_df = df[columns_to_keep]\n",
    "\n",
    "model_1_df.to_csv('model_1.csv', index=False)\n",
    "\n",
    "# Model 2\n",
    "columns_to_keep=['Variety',\n",
    "                 'Location',\n",
    "                 'Prod_13pcUM',\n",
    "                 'N uptake',\n",
    "                 'Prot_PC_bio',\n",
    "                 'più_freq',\n",
    "                 'Peso hl',\n",
    "                 'weight of 1000 seeds',\n",
    "                 'Bianconati_PC',\n",
    "                 'Stremenziti_PC',\n",
    "                 'Spigatda1Marzo_gg',\n",
    "                 'Altezzapianta_cm',\n",
    "                 'Allettamentoa mat_09',\n",
    "                 'Rugginebruna_09',\n",
    "                 'Oidio_09',\n",
    "                 'Septoria_09']\n",
    "\n",
    "model_2_df = df[columns_to_keep]\n",
    "\n",
    "model_2_df.to_csv('model_2.csv', index=False)\n",
    "\n",
    "\n",
    "# Model 3\n",
    "columns_to_keep = predict_cols + VI_2014 \n",
    "model_3_df = df[columns_to_keep]\n",
    "\n",
    "model_3_df.to_csv('model_3.csv', index=False)\n",
    "\n",
    "\n",
    "# Model 4\n",
    "columns_to_keep = predict_cols + location_cols + VI_2014 + TEMP_2014 + soil_cols\n",
    "model_4_df = df[columns_to_keep]\n",
    "\n",
    "model_4_df.to_csv('model_4.csv', index=False)"
   ]
  }
 ],
 "metadata": {
  "kernelspec": {
   "display_name": "Python 3 (ipykernel)",
   "language": "python",
   "name": "python3"
  },
  "language_info": {
   "codemirror_mode": {
    "name": "ipython",
    "version": 3
   },
   "file_extension": ".py",
   "mimetype": "text/x-python",
   "name": "python",
   "nbconvert_exporter": "python",
   "pygments_lexer": "ipython3",
   "version": "3.11.4"
  }
 },
 "nbformat": 4,
 "nbformat_minor": 5
}
